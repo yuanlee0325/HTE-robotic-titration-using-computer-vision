{
 "cells": [
  {
   "cell_type": "code",
   "execution_count": 4,
   "id": "69092e05",
   "metadata": {},
   "outputs": [
    {
     "name": "stdout",
     "output_type": "stream",
     "text": [
      "time elapsed:  1721317254.7767131\n",
      "time elapsed:  2.4895613193511963\n",
      "time elapsed:  2.5011446475982666\n",
      "time elapsed:  2.4998488426208496\n"
     ]
    }
   ],
   "source": [
    "from utils.realsense import start_realsense\n",
    "import os \n",
    "\n",
    "path_cam = r'C:\\Users\\scrc112\\Desktop\\work\\yuan\\20240718\\first_trial' # path to save\n",
    "\n",
    "filename = 'heat_shaker_test'\n",
    "\n",
    "frame_interval = 2.5  # seconds\n",
    "\n",
    "stop = 0.0025 # stop cam in hrs\n",
    "\n",
    "take_image = True # take image or dispaly for alignment\n",
    "\n",
    "sensitivity = 100 # increase sensitivitydefault = 130\n",
    "\n",
    "filename = filename + '_' # filename to save\n",
    "\n",
    "########################################################################\n",
    "try :\n",
    "    start_realsense(fname=filename,\n",
    "                    folder=path_cam,\n",
    "                    frame_interval=frame_interval,\n",
    "                    stop=stop,\n",
    "                    take_image=take_image,\n",
    "                    sensitivity = sensitivity)\n",
    "\n",
    "except KeyboardInterrupt:\n",
    "    print('interrupted')\n"
   ]
  },
  {
   "cell_type": "markdown",
   "id": "416d1131",
   "metadata": {},
   "source": [
    "## Tryout connection to smb server"
   ]
  },
  {
   "cell_type": "code",
   "execution_count": 2,
   "id": "84003477-d70b-4f2c-bea4-0c26e4e5a055",
   "metadata": {},
   "outputs": [],
   "source": [
    "import pandas as pd \n",
    "def write_file(write_string):\n",
    "    df = pd.DataFrame({'status':[write_string],'dummy':[0]})\n",
    "    smb_path = r'C:\\Users\\scrc112\\Desktop\\work\\biplab\\OpenTron\\DriveSMB'\n",
    "    df.to_csv(os.path.join(smb_path,'image_process.csv'))"
   ]
  }
 ],
 "metadata": {
  "kernelspec": {
   "display_name": "ot2",
   "language": "python",
   "name": "python3"
  },
  "language_info": {
   "codemirror_mode": {
    "name": "ipython",
    "version": 3
   },
   "file_extension": ".py",
   "mimetype": "text/x-python",
   "name": "python",
   "nbconvert_exporter": "python",
   "pygments_lexer": "ipython3",
   "version": "3.9.17"
  }
 },
 "nbformat": 4,
 "nbformat_minor": 5
}
