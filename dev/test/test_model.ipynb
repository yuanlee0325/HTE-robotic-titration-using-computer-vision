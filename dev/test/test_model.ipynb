{
 "cells": [
  {
   "cell_type": "code",
   "execution_count": 1,
   "id": "0c7aaeeb-54f0-45c3-a015-cb96ef8cebae",
   "metadata": {},
   "outputs": [],
   "source": [
    "import numpy as np\n",
    "import os\n",
    "import pandas as pd\n",
    "from models.inference_unet import get_trained_unet, get_inference\n",
    "from analysis.analysis import *\n",
    "from torchvision import transforms\n",
    "import matplotlib.pyplot as plt"
   ]
  },
  {
   "cell_type": "code",
   "execution_count": 3,
   "id": "d0147466-7e80-4673-bbc8-63bca5bff3ab",
   "metadata": {},
   "outputs": [
    {
     "name": "stderr",
     "output_type": "stream",
     "text": [
      "C:\\Users\\scrc112\\.conda\\envs\\pyg\\lib\\site-packages\\torchvision\\transforms\\functional.py:1603: UserWarning: The default value of the antialias parameter of all the resizing transforms (Resize(), RandomResizedCrop(), etc.) will change from None to True in v0.17, in order to be consistent across the PIL and Tensor backends. To suppress this warning, directly pass antialias=True (recommended, future default), antialias=None (current default, which means False for Tensors and True for PIL), or antialias=False (only works on Tensors - PIL will still use antialiasing). This also applies if you are using the inference transforms from the models weights: update the call to weights.transforms(antialias=True).\n",
      "  warnings.warn(\n"
     ]
    }
   ],
   "source": [
    "##########################################\n",
    "# sort pngs\n",
    "path = r'C:\\Users\\scrc112\\Desktop\\work\\biplab\\OpenTron\\TestSMB\\unilever_test\\data'\n",
    "#path = r'C:\\Users\\scrc112\\Desktop\\work\\biplab\\OpenTron\\TestSMB\\dummy_data'\n",
    "file_list = get_files(path, initials='uni')\n",
    "\n",
    "\n",
    "#########################################\n",
    "# get mask\n",
    "# model init\n",
    "device = 'cpu'\n",
    "model=get_trained_unet(model_name='unet_vgg11_transpose2d',\n",
    "                       path=r'C:\\Users\\scrc112\\Desktop\\work\\biplab\\OpenTron\\TestSMB\\Opentron\\weights\\unet_gen',\n",
    "                       params ='unet_vgg11_aug_lr1e-5_params_59_lr_1e-05.pt'\n",
    "                      )\n",
    "\n",
    "file = file_list[0] # take first file\n",
    "\n",
    "# inference\n",
    "(img,mask)=get_inference(model,\n",
    "                         image_path=os.path.join(path,file),\n",
    "                         crop = 0.2,\n",
    "                         transform_hr=transforms.Compose([transforms.ToTensor(),transforms.Resize((512,512))]),\n",
    "                         device =device)"
   ]
  },
  {
   "cell_type": "code",
   "execution_count": 12,
   "id": "948d1110-1b4e-4ffa-88c4-108beff3d6d3",
   "metadata": {},
   "outputs": [
    {
     "data": {
      "text/plain": [
       "512"
      ]
     },
     "execution_count": 12,
     "metadata": {},
     "output_type": "execute_result"
    }
   ],
   "source": [
    "w = img.shape[0]\n",
    "w"
   ]
  },
  {
   "cell_type": "code",
   "execution_count": 24,
   "id": "759fe28b-8289-414d-a9ae-a50af2f09161",
   "metadata": {},
   "outputs": [
    {
     "data": {
      "text/plain": [
       "<matplotlib.image.AxesImage at 0x1eed43defa0>"
      ]
     },
     "execution_count": 24,
     "metadata": {},
     "output_type": "execute_result"
    },
    {
     "data": {
      "image/png": "[encoded data removed]",
      "text/plain": [
       "<Figure size 640x480 with 1 Axes>"
      ]
     },
     "metadata": {},
     "output_type": "display_data"
    }
   ],
   "source": [
    "plt.imshow(img[int(w//2-5):int(w//2+5),int(w-10):w,:])"
   ]
  },
  {
   "cell_type": "code",
   "execution_count": 35,
   "id": "568e754e-c857-4909-8bdd-0411bc8e6d3b",
   "metadata": {},
   "outputs": [
    {
     "data": {
      "text/plain": [
       "array([0.6097298 , 0.8137431 , 0.69892293], dtype=float32)"
      ]
     },
     "execution_count": 35,
     "metadata": {},
     "output_type": "execute_result"
    }
   ],
   "source": [
    "img[int(w//2-5):int(w//2+5),int(w-10):w,:].mean(axis = (0,1))"
   ]
  },
  {
   "cell_type": "code",
   "execution_count": 25,
   "id": "c7aed074-7544-4122-9048-1507274566e6",
   "metadata": {},
   "outputs": [
    {
     "data": {
      "text/plain": [
       "1.0"
      ]
     },
     "execution_count": 25,
     "metadata": {},
     "output_type": "execute_result"
    }
   ],
   "source": [
    "img.max()"
   ]
  },
  {
   "cell_type": "code",
   "execution_count": null,
   "id": "d81173bb-09de-42b7-b939-9ad8272c7089",
   "metadata": {},
   "outputs": [],
   "source": []
  }
 ],
 "metadata": {
  "kernelspec": {
   "display_name": "Python 3 (ipykernel)",
   "language": "python",
   "name": "python3"
  },
  "language_info": {
   "codemirror_mode": {
    "name": "ipython",
    "version": 3
   },
   "file_extension": ".py",
   "mimetype": "text/x-python",
   "name": "python",
   "nbconvert_exporter": "python",
   "pygments_lexer": "ipython3",
   "version": "3.9.17"
  }
 },
 "nbformat": 4,
 "nbformat_minor": 5
}
