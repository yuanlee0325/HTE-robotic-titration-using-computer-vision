{
 "cells": [
  {
   "cell_type": "code",
   "execution_count": 1,
   "id": "b62dfcfd",
   "metadata": {},
   "outputs": [],
   "source": [
    "import numpy as np\n",
    "import os\n",
    "import pandas as pd\n",
    "from setting.settings_base import*"
   ]
  },
  {
   "cell_type": "markdown",
   "id": "6aba5057",
   "metadata": {},
   "source": [
    "## System Config"
   ]
  },
  {
   "cell_type": "markdown",
   "id": "67c4a8b0",
   "metadata": {},
   "source": [
    "#### Edit system config & save to SMB folder"
   ]
  },
  {
   "cell_type": "code",
   "execution_count": 2,
   "id": "46042b61",
   "metadata": {},
   "outputs": [
    {
     "data": {
      "text/plain": [
       "class system_config.\n",
       "tiprack 1 : {'type': 'opentrons_96_tiprack_300ul', 'pos': 10, 'offset': {'x': -0.6, 'y': 0.9, 'z': 0}}\n",
       "****************************************************************************************************\n",
       "tiprack 2 : {'type': 'opentrons_96_tiprack_20ul', 'pos': 11, 'offset': {'x': 0.1, 'y': 0.4, 'z': 0}}\n",
       "****************************************************************************************************\n",
       "plate 1 : {'type': 'corning_96_wellplate_360ul_flat', 'pos': 5, 'offset': {'x': -0.1, 'y': 0.4, 'z': 0.9}}\n",
       "****************************************************************************************************\n",
       "reservoir 1 : {'type': 'azenta_12_reservoir_2100ul', 'pos': 7, 'offset': {'x': 0, 'y': 0, 'z': 0}}\n",
       "****************************************************************************************************\n",
       "reservoir 2 : {'type': 'nest_96_wellplate_2ml_deep', 'pos': 8, 'offset': {'x': 0, 'y': 0, 'z': 0}}\n",
       "****************************************************************************************************\n",
       "camera : {'type': 'opentrons_96_tiprack_20ul', 'pos': 3, 'offset': {'x': 0.2, 'y': 0.3, 'z': 0}, 'tip': 'D3'}\n",
       "****************************************************************************************************\n",
       "pipette 1 : {'type': 'p300_multi_gen2', 'mount': 'left'}\n",
       "****************************************************************************************************\n",
       "pipette 2 : {'type': 'p20_single_gen2', 'mount': 'right'}"
      ]
     },
     "execution_count": 2,
     "metadata": {},
     "output_type": "execute_result"
    }
   ],
   "source": [
    "## set systems & transfer specifications\n",
    "path_smb = r'C:\\Users\\scrc112\\Desktop\\work\\biplab\\OpenTron\\DriveSMB'\n",
    "\n",
    "## config\n",
    "sc = system_config(path = path_smb, file = 'ot2_system_config_ox.json')\n",
    "sc.dict['tiprack_2']['pos'] = 11\n",
    "\n",
    "sc.dict['tiprack_1']['offset']['x'] = -0.6\n",
    "sc.dict['tiprack_1']['offset']['y'] = 0.9\n",
    "sc.dict['tiprack_1']['offset']['z'] = 0\n",
    "\n",
    "sc.dict['tiprack_2']['offset']['x'] = 0.1\n",
    "sc.dict['tiprack_2']['offset']['y'] = 0.4\n",
    "sc.dict['tiprack_2']['offset']['z'] = 0\n",
    "\n",
    "sc.dict['plate_1']['offset']['x'] = -0.1\n",
    "sc.dict['plate_1']['offset']['y'] = 0.4\n",
    "sc.dict['plate_1']['offset']['z'] = 0.9\n",
    "\n",
    "sc.dict['reservoir_2']['type'] = 'nest_96_wellplate_2ml_deep'\n",
    "#sc.dict['reservoir_2']['type'] = 'azenta_12_reservoir_2100ul'\n",
    "sc.dict['camera']['tip'] = 'D3'\n",
    "sc.save_json()\n",
    "sc"
   ]
  },
  {
   "cell_type": "code",
   "execution_count": 3,
   "id": "8b244653-818c-4a96-8f71-76c742ff8a02",
   "metadata": {},
   "outputs": [],
   "source": []
  },
  {
   "cell_type": "markdown",
   "id": "941b6597",
   "metadata": {},
   "source": [
    "#### Read from existing JSon & save to SMB folder"
   ]
  },
  {
   "cell_type": "code",
   "execution_count": 3,
   "id": "79d3e1b6-a953-4c96-9897-7ad7714be30c",
   "metadata": {},
   "outputs": [],
   "source": [
    "path_json_dump = r'C:\\Users\\scrc112\\Desktop\\work\\biplab\\OpenTron\\dev\\Dummy\\json_dump'\n",
    "sc.save_json(path_json_dump,'sys_config.json')"
   ]
  },
  {
   "cell_type": "code",
   "execution_count": 7,
   "id": "4d77cec2",
   "metadata": {
    "scrolled": true
   },
   "outputs": [
    {
     "data": {
      "text/plain": [
       "class system_config.\n",
       "tiprack 1 : {'type': 'opentrons_96_tiprack_300ul', 'pos': 10, 'offset': {'x': -0.6, 'y': 1, 'z': 0}}\n",
       "****************************************************************************************************\n",
       "tiprack 2 : {'type': 'opentrons_96_tiprack_300ul', 'pos': 11, 'offset': {'x': -0.5, 'y': 0.8, 'z': 0}}\n",
       "****************************************************************************************************\n",
       "plate 3 : {'type': 'corning_96_wellplate_360ul_flat', 'pos': 5, 'offset': {'x': 0.7, 'y': 0.6, 'z': 0.9}}\n",
       "****************************************************************************************************\n",
       "reservoir 1 : {'type': 'azenta_12_reservoir_2100ul', 'pos': 7, 'offset': {'x': 0, 'y': 0, 'z': 0}}\n",
       "****************************************************************************************************\n",
       "reservoir 2 : {'type': 'azenta_12_reservoir_2100ul', 'pos': 8, 'offset': {'x': 0, 'y': 0, 'z': 0}}\n",
       "****************************************************************************************************\n",
       "camera : {'type': 'opentrons_96_tiprack_300ul', 'pos': 3, 'offset': {'x': 0.2, 'y': 0.3, 'z': 0}, 'tip': 'D3'}\n",
       "****************************************************************************************************\n",
       "pipette 2 : {'type': 'p300_multi_gen2', 'mount': 'left'}\n",
       "****************************************************************************************************\n",
       "pipette 2 : {'type': 'p300_single_gen2', 'mount': 'right'}"
      ]
     },
     "execution_count": 7,
     "metadata": {},
     "output_type": "execute_result"
    }
   ],
   "source": [
    "sc2 = system_config().load_from_json(path_json_dump,'sys_config.json')\n",
    "sc2.save_json('smb')\n",
    "sc2"
   ]
  },
  {
   "cell_type": "code",
   "execution_count": 6,
   "id": "94c4df1c-5aff-4d23-a519-3feba66ccc81",
   "metadata": {},
   "outputs": [],
   "source": [
    "sc3 = system_config().load_from_json(path_json_dump,'sys_config.json').save_json('smb')\n",
    "#sc3"
   ]
  },
  {
   "cell_type": "markdown",
   "id": "85087b2a",
   "metadata": {},
   "source": [
    "## Transfer Config"
   ]
  },
  {
   "cell_type": "markdown",
   "id": "d03ee537",
   "metadata": {
    "jp-MarkdownHeadingCollapsed": true
   },
   "source": [
    "### Edit transfer config & save to SMB folder (Transfer 2: Single Channel : Droptip False)"
   ]
  },
  {
   "cell_type": "code",
   "execution_count": 6,
   "id": "a7691a5a",
   "metadata": {
    "scrolled": true
   },
   "outputs": [
    {
     "name": "stdout",
     "output_type": "stream",
     "text": [
      "safety test : passed\n"
     ]
    },
    {
     "data": {
      "text/plain": [
       "class transfer_config.\n",
       "transfer 1: \n",
       "vol : [160, 20]\n",
       "\n",
       "locs : [[['A1', 'A1', 'A1', 'A1', 'A1', 'A1', 'A1', 'A1', 'A1', 'A1', 'A1', 'A1'], ['A1', 'A2', 'A3', 'A4', 'A5', 'A6', 'A7', 'A8', 'A9', 'A10', 'A11', 'A12']], [['A2', 'A2', 'A2', 'A2', 'A2', 'A2'], ['A1', 'A3', 'A5', 'A7', 'A9', 'A11']]]\n",
       "\n",
       "tiprack : ['A1', 'A2']\n",
       "\n",
       "mix : {'rep': 2, 'vol': 100}\n",
       "\n",
       "blowout : False\n",
       "\n",
       "speed : {'aspirate': 1, 'dispense': 1}\n",
       "****************************************************************************************************\n",
       "transfer 2: \n",
       "vol : 20\n",
       "\n",
       "locs : [['A1', ['A2', 'B2', 'C2']], ['B1', ['A4', 'B4', 'C4']], ['C1', ['A6', 'B6', 'C6', 'D6']], ['D1', ['A8', 'B8', 'C8', 'D8']], ['E1', ['A10', 'B10', 'C10', 'D10']], ['F1', ['A12', 'B12', 'C12', 'D12', 'E12', 'F12', 'G12', 'H12']], ['A1', ['A1', 'B1', 'C1']], ['B1', ['A3', 'B3', 'C3']], ['C1', ['A5', 'B5', 'C5', 'D5']], ['D1', ['A7', 'B7', 'C7', 'D7']], ['E1', ['A9', 'B9', 'C9', 'D9']], ['F1', ['A11', 'B11', 'C11', 'D11', 'E11', 'F11', 'G11', 'H11']]]\n",
       "\n",
       "tiprack : ['A1', 'B1', 'C1', 'D1', 'E1', 'F1', 'G1', 'H1', 'A2', 'B2', 'C2', 'D2']\n",
       "\n",
       "mix : {'rep': 2, 'vol': 100}\n",
       "\n",
       "blowout : False\n",
       "\n",
       "speed : {'aspirate': 1, 'dispense': 1}\n",
       "****************************************************************************************************\n",
       "transfer 3: \n",
       "vol : 20\n",
       "\n",
       "locs : [['A3', 'A3', 'A3', 'A3', 'A3', 'A3'], ['A2', 'A4', 'A6', 'A8', 'A10', 'A12']]\n",
       "\n",
       "tiprack : ['A3', 'A4', 'A5', 'A6', 'A7', 'A8']\n",
       "\n",
       "mix : {'rep': 4, 'vol': 100}\n",
       "\n",
       "blowout : True\n",
       "\n",
       "speed : {'aspirate': 1, 'dispense': 1}\n",
       "****************************************************************************************************\n",
       "transfer_mode_2: \n",
       "use_pipette : singlechannel\n",
       "\n",
       "drop_tip : False"
      ]
     },
     "execution_count": 6,
     "metadata": {},
     "output_type": "execute_result"
    }
   ],
   "source": [
    "## set systems & transfer specifications\n",
    "path_smb = r'C:\\Users\\scrc112\\Desktop\\work\\biplab\\OpenTron\\DriveSMB'\n",
    "\n",
    "## transfer\n",
    "tc = transfer_config(path = path_smb, file = 'ot2_transfer_config_ox.json', reservoir_96 = True, drop_tip= False);\n",
    "\n",
    "# Transfer 1 : buffer using left multichannel p300_mult buffer\n",
    "## tiprack : deck 10\n",
    "tc.dict['transfer_1']['tiprack'] = ['A1:A2'] \n",
    "tc.dict['transfer_1']['vol'] = [160,20] # volume aspirate uL\n",
    "tc.dict['transfer_1']['locs'] = [['A1','A1:A12'],# add 160 micl buffer+PhRed on all cols\n",
    "                                 ['A2','A1:2:A12']]# add 20 micl on buffer only on all cols\n",
    "\n",
    "\n",
    "## Transfer 2 : polymer 20 micl\n",
    "## tiprack : deck 11\n",
    "tc.dict['transfer_2']['tiprack'] = ['A1:D2'] # 6 tips\n",
    "tc.dict['transfer_2']['vol'] = 20\n",
    "\n",
    "tc.dict['transfer_2']['locs'] =[['A1','A2:C2'], # enz hydrolysis\n",
    "                                ['B1','A4:C4'],\n",
    "                                ['C1','A6:D6'],\n",
    "                                ['D1','A8:D8'],\n",
    "                                ['E1','A10:D10'],\n",
    "                                ['F1','A12:H12'],\n",
    "                                ['A1','A1:C1'], # checmical hydrolysius\n",
    "                                ['B1','A3:C3'],\n",
    "                                ['C1','A5:D5'],\n",
    "                                ['D1','A7:D7'],\n",
    "                                ['E1','A9:D9'],\n",
    "                                ['F1','A11:H11']]   \n",
    "\n",
    "## Transfer 3 : polymer 20 micl using left multichannel p300_mult buffer\n",
    "## tiprack : deck 10\n",
    "tc.dict['transfer_3']['tiprack'] = ['A3:A8'] # 6 tips\n",
    "tc.dict['transfer_3']['vol'] = 20\n",
    "tc.dict['transfer_3']['locs'] =['A3','A2:2:A12']\n",
    "\n",
    "#tc.dict['transfer_mode_2']['use_pipette'] = 'singlechannel'\n",
    "#tc.dict['transfer_mode_2']['drop_tip'] = True\n",
    "safety_test(sc,tc)\n",
    "tc.save_json()\n",
    "tc"
   ]
  },
  {
   "cell_type": "code",
   "execution_count": 7,
   "id": "8302deac-a30a-4621-926f-ff76dfc07bd2",
   "metadata": {},
   "outputs": [
    {
     "data": {
      "text/plain": [
       "[['A1', ['A2', 'B2', 'C2']],\n",
       " ['B1', ['A4', 'B4', 'C4']],\n",
       " ['C1', ['A6', 'B6', 'C6', 'D6']],\n",
       " ['D1', ['A8', 'B8', 'C8', 'D8']],\n",
       " ['E1', ['A10', 'B10', 'C10', 'D10']],\n",
       " ['F1', ['A12', 'B12', 'C12', 'D12', 'E12', 'F12', 'G12', 'H12']],\n",
       " ['A1', ['A1', 'B1', 'C1']],\n",
       " ['B1', ['A3', 'B3', 'C3']],\n",
       " ['C1', ['A5', 'B5', 'C5', 'D5']],\n",
       " ['D1', ['A7', 'B7', 'C7', 'D7']],\n",
       " ['E1', ['A9', 'B9', 'C9', 'D9']],\n",
       " ['F1', ['A11', 'B11', 'C11', 'D11', 'E11', 'F11', 'G11', 'H11']]]"
      ]
     },
     "execution_count": 7,
     "metadata": {},
     "output_type": "execute_result"
    }
   ],
   "source": [
    "tc.dict['transfer_2']['locs']"
   ]
  },
  {
   "cell_type": "markdown",
   "id": "35370e73-1f4f-411e-ac3e-8cb089735a15",
   "metadata": {
    "jp-MarkdownHeadingCollapsed": true
   },
   "source": [
    "#### Dump to Json & Load from Json"
   ]
  },
  {
   "cell_type": "code",
   "execution_count": 8,
   "id": "f0354877-dbbe-44c5-8419-792d764df86b",
   "metadata": {
    "scrolled": true
   },
   "outputs": [
    {
     "ename": "FileNotFoundError",
     "evalue": "[Errno 2] No such file or directory: 'C:\\\\Users\\\\scrc112\\\\Desktop\\\\work\\\\biplab\\\\OpenTron\\\\dev\\\\Dummy\\\\json_dump\\\\liq_transfer_singlechannel.json'",
     "output_type": "error",
     "traceback": [
      "\u001b[1;31m---------------------------------------------------------------------------\u001b[0m",
      "\u001b[1;31mFileNotFoundError\u001b[0m                         Traceback (most recent call last)",
      "Cell \u001b[1;32mIn[8], line 2\u001b[0m\n\u001b[0;32m      1\u001b[0m path_json_dump \u001b[38;5;241m=\u001b[39m \u001b[38;5;124mr\u001b[39m\u001b[38;5;124m'\u001b[39m\u001b[38;5;124mC:\u001b[39m\u001b[38;5;124m\\\u001b[39m\u001b[38;5;124mUsers\u001b[39m\u001b[38;5;124m\\\u001b[39m\u001b[38;5;124mscrc112\u001b[39m\u001b[38;5;124m\\\u001b[39m\u001b[38;5;124mDesktop\u001b[39m\u001b[38;5;124m\\\u001b[39m\u001b[38;5;124mwork\u001b[39m\u001b[38;5;124m\\\u001b[39m\u001b[38;5;124mbiplab\u001b[39m\u001b[38;5;124m\\\u001b[39m\u001b[38;5;124mOpenTron\u001b[39m\u001b[38;5;124m\\\u001b[39m\u001b[38;5;124mdev\u001b[39m\u001b[38;5;124m\\\u001b[39m\u001b[38;5;124mDummy\u001b[39m\u001b[38;5;124m\\\u001b[39m\u001b[38;5;124mjson_dump\u001b[39m\u001b[38;5;124m'\u001b[39m\n\u001b[1;32m----> 2\u001b[0m \u001b[43mtc\u001b[49m\u001b[38;5;241;43m.\u001b[39;49m\u001b[43msave_json\u001b[49m\u001b[43m(\u001b[49m\u001b[43mpath_json_dump\u001b[49m\u001b[43m,\u001b[49m\u001b[43m \u001b[49m\u001b[38;5;124;43m'\u001b[39;49m\u001b[38;5;124;43mliq_transfer_singlechannel.json\u001b[39;49m\u001b[38;5;124;43m'\u001b[39;49m\u001b[43m)\u001b[49m\n\u001b[0;32m      4\u001b[0m tc2 \u001b[38;5;241m=\u001b[39m transfer_config()\u001b[38;5;241m.\u001b[39mload_from_json(path \u001b[38;5;241m=\u001b[39m path_json_dump, file \u001b[38;5;241m=\u001b[39m \u001b[38;5;124m'\u001b[39m\u001b[38;5;124mliq_transfer_singlechannel.json\u001b[39m\u001b[38;5;124m'\u001b[39m)\n\u001b[0;32m      5\u001b[0m tc2\u001b[38;5;241m.\u001b[39msave_json(\u001b[38;5;124m'\u001b[39m\u001b[38;5;124msmb\u001b[39m\u001b[38;5;124m'\u001b[39m)\n",
      "File \u001b[1;32m~\\.conda\\envs\\pyg\\lib\\site-packages\\multipledispatch\\dispatcher.py:439\u001b[0m, in \u001b[0;36mMethodDispatcher.__call__\u001b[1;34m(self, *args, **kwargs)\u001b[0m\n\u001b[0;32m    434\u001b[0m \u001b[38;5;28;01mif\u001b[39;00m \u001b[38;5;129;01mnot\u001b[39;00m func:\n\u001b[0;32m    435\u001b[0m     \u001b[38;5;28;01mraise\u001b[39;00m \u001b[38;5;167;01mNotImplementedError\u001b[39;00m(\n\u001b[0;32m    436\u001b[0m         \u001b[38;5;124m\"\u001b[39m\u001b[38;5;124mCould not find signature for \u001b[39m\u001b[38;5;132;01m%s\u001b[39;00m\u001b[38;5;124m: <\u001b[39m\u001b[38;5;132;01m%s\u001b[39;00m\u001b[38;5;124m>\u001b[39m\u001b[38;5;124m\"\u001b[39m\n\u001b[0;32m    437\u001b[0m         \u001b[38;5;241m%\u001b[39m (\u001b[38;5;28mself\u001b[39m\u001b[38;5;241m.\u001b[39mname, str_signature(types))\n\u001b[0;32m    438\u001b[0m     )\n\u001b[1;32m--> 439\u001b[0m \u001b[38;5;28;01mreturn\u001b[39;00m func(\u001b[38;5;28mself\u001b[39m\u001b[38;5;241m.\u001b[39mobj, \u001b[38;5;241m*\u001b[39margs, \u001b[38;5;241m*\u001b[39m\u001b[38;5;241m*\u001b[39mkwargs)\n",
      "File \u001b[1;32m~\\Desktop\\work\\biplab\\OpenTron\\dev\\setting\\settings_ox_gen3.py:705\u001b[0m, in \u001b[0;36mtransfer_config.save_json\u001b[1;34m(self, smb_path, smb_file)\u001b[0m\n\u001b[0;32m    702\u001b[0m \u001b[38;5;28mself\u001b[39m\u001b[38;5;241m.\u001b[39m__set_reservoirs()\n\u001b[0;32m    704\u001b[0m \u001b[38;5;28;01mif\u001b[39;00m smb_file \u001b[38;5;129;01mand\u001b[39;00m smb_path:\n\u001b[1;32m--> 705\u001b[0m     \u001b[38;5;28;01mwith\u001b[39;00m \u001b[38;5;28;43mopen\u001b[39;49m\u001b[43m(\u001b[49m\u001b[43mos\u001b[49m\u001b[38;5;241;43m.\u001b[39;49m\u001b[43mpath\u001b[49m\u001b[38;5;241;43m.\u001b[39;49m\u001b[43mjoin\u001b[49m\u001b[43m(\u001b[49m\u001b[43msmb_path\u001b[49m\u001b[43m,\u001b[49m\u001b[43m \u001b[49m\u001b[43msmb_file\u001b[49m\u001b[43m)\u001b[49m\u001b[43m,\u001b[49m\u001b[43m \u001b[49m\u001b[38;5;124;43m'\u001b[39;49m\u001b[38;5;124;43mw\u001b[39;49m\u001b[38;5;124;43m'\u001b[39;49m\u001b[43m)\u001b[49m \u001b[38;5;28;01mas\u001b[39;00m outfile:\n\u001b[0;32m    706\u001b[0m         json\u001b[38;5;241m.\u001b[39mdump(\u001b[38;5;28mself\u001b[39m\u001b[38;5;241m.\u001b[39mdict, outfile)\n\u001b[0;32m    707\u001b[0m \u001b[38;5;28;01melse\u001b[39;00m : \n",
      "\u001b[1;31mFileNotFoundError\u001b[0m: [Errno 2] No such file or directory: 'C:\\\\Users\\\\scrc112\\\\Desktop\\\\work\\\\biplab\\\\OpenTron\\\\dev\\\\Dummy\\\\json_dump\\\\liq_transfer_singlechannel.json'"
     ]
    }
   ],
   "source": [
    "path_json_dump = r'C:\\Users\\scrc112\\Desktop\\work\\biplab\\OpenTron\\dev\\Dummy\\json_dump'\n",
    "tc.save_json(path_json_dump, 'liq_transfer_singlechannel.json')\n",
    "\n",
    "tc2 = transfer_config().load_from_json(path = path_json_dump, file = 'liq_transfer_singlechannel.json')\n",
    "tc2.save_json('smb')\n",
    "tc2"
   ]
  },
  {
   "cell_type": "markdown",
   "id": "051499ff-5d56-4471-90e7-6b7a612f3f63",
   "metadata": {
    "jp-MarkdownHeadingCollapsed": true
   },
   "source": [
    "#### Dump to Json & Load from Json"
   ]
  },
  {
   "cell_type": "code",
   "execution_count": 4,
   "id": "fc5772da",
   "metadata": {},
   "outputs": [
    {
     "name": "stdout",
     "output_type": "stream",
     "text": [
      "[[['A1', 'A1', 'A1', 'A1', 'A1', 'A1', 'A1', 'A1', 'A1', 'A1', 'A1', 'A1'], ['A1', 'A2', 'A3', 'A4', 'A5', 'A6', 'A7', 'A8', 'A9', 'A10', 'A11', 'A12']], [['A2', 'A2', 'A2', 'A2', 'A2', 'A2'], ['A1', 'A3', 'A5', 'A7', 'A9', 'A11']]]\n",
      "['A1', 'A2']\n",
      "{'aspirate': 1, 'dispense': 1}\n"
     ]
    },
    {
     "data": {
      "text/plain": [
       "{'rep': 2, 'vol': 100}"
      ]
     },
     "execution_count": 4,
     "metadata": {},
     "output_type": "execute_result"
    }
   ],
   "source": [
    "print(tc.dict['transfer_1']['locs'])\n",
    "print(tc.dict['transfer_1']['tiprack'])\n",
    "print(tc.dict['transfer_1']['speed'])\n",
    "tc.dict['transfer_1']['mix']"
   ]
  },
  {
   "cell_type": "markdown",
   "id": "ccd611ca-a5fb-4c51-a0f2-6a0c7f3170d5",
   "metadata": {},
   "source": [
    "### Edit transfer config & save to SMB folder (Transfer 2: Single Channel : Droptip True)"
   ]
  },
  {
   "cell_type": "code",
   "execution_count": 9,
   "id": "b01f2d5f-1155-45ec-83c2-fe5c739680fb",
   "metadata": {
    "scrolled": true
   },
   "outputs": [
    {
     "name": "stdout",
     "output_type": "stream",
     "text": [
      "safety test : passed\n"
     ]
    },
    {
     "data": {
      "text/plain": [
       "class transfer_config.\n",
       "transfer 1: \n",
       "vol : [160, 20]\n",
       "\n",
       "locs : [[['A1', 'A1', 'A1', 'A1', 'A1', 'A1', 'A1', 'A1', 'A1', 'A1', 'A1', 'A1'], ['A1', 'A2', 'A3', 'A4', 'A5', 'A6', 'A7', 'A8', 'A9', 'A10', 'A11', 'A12']], [['A2', 'A2', 'A2', 'A2', 'A2', 'A2'], ['A1', 'A3', 'A5', 'A7', 'A9', 'A11']]]\n",
       "\n",
       "tiprack : ['A1', 'A2']\n",
       "\n",
       "mix : {'rep': 2, 'vol': 100}\n",
       "\n",
       "blowout : False\n",
       "\n",
       "speed : {'aspirate': 1, 'dispense': 1}\n",
       "****************************************************************************************************\n",
       "transfer 2: \n",
       "vol : 20\n",
       "\n",
       "locs : [[['A1', 'A1', 'A1', 'A1', 'A1', 'A1', 'A1', 'A1'], ['A2', 'B2', 'C2', 'D2', 'E2', 'F2', 'G2', 'H2']], [['B1', 'B1', 'B1', 'B1', 'B1', 'B1', 'B1', 'B1'], ['A4', 'B4', 'C4', 'D4', 'E4', 'F4', 'G4', 'H4']], [['C1', 'C1', 'C1', 'C1', 'C1', 'C1', 'C1', 'C1'], ['A6', 'B6', 'C6', 'D6', 'E6', 'F6', 'G6', 'H6']], [['D1', 'D1', 'D1', 'D1', 'D1', 'D1', 'D1', 'D1'], ['A8', 'B8', 'C8', 'D8', 'E8', 'F8', 'G8', 'H8']], [['E1', 'E1', 'E1', 'E1', 'E1', 'E1', 'E1', 'E1'], ['A10', 'B10', 'C10', 'D10', 'E10', 'F10', 'G10', 'H10']], [['F1', 'F1', 'F1', 'F1', 'F1', 'F1', 'F1', 'F1'], ['A12', 'B12', 'C12', 'D12', 'E12', 'F12', 'G12', 'H12']], [['A1', 'A1', 'A1', 'A1', 'A1', 'A1', 'A1', 'A1'], ['A1', 'B1', 'C1', 'D1', 'E1', 'F1', 'G1', 'H1']], [['B1', 'B1', 'B1', 'B1', 'B1', 'B1', 'B1', 'B1'], ['A3', 'B3', 'C3', 'D3', 'E3', 'F3', 'G3', 'H3']], [['C1', 'C1', 'C1', 'C1', 'C1', 'C1', 'C1', 'C1'], ['A5', 'B5', 'C5', 'D5', 'E5', 'F5', 'G5', 'H5']], [['D1', 'D1', 'D1', 'D1', 'D1', 'D1', 'D1', 'D1'], ['A7', 'B7', 'C7', 'D7', 'E7', 'F7', 'G7', 'H7']], [['E1', 'E1', 'E1', 'E1', 'E1', 'E1', 'E1', 'E1'], ['A9', 'B9', 'C9', 'D9', 'E9', 'F9', 'G9', 'H9']], [['F1', 'F1', 'F1', 'F1', 'F1', 'F1', 'F1', 'F1'], ['A11', 'B11', 'C11', 'D11', 'E11', 'F11', 'G11', 'H11']]]\n",
       "\n",
       "tiprack : ['A1', 'B1', 'C1', 'D1', 'E1', 'F1', 'G1', 'H1', 'A2', 'B2', 'C2', 'D2', 'E2', 'F2', 'G2', 'H2', 'A3', 'B3', 'C3', 'D3', 'E3', 'F3', 'G3', 'H3', 'A4', 'B4', 'C4', 'D4', 'E4', 'F4', 'G4', 'H4', 'A5', 'B5', 'C5', 'D5', 'E5', 'F5', 'G5', 'H5', 'A6', 'B6', 'C6', 'D6', 'E6', 'F6', 'G6', 'H6', 'A7', 'B7', 'C7', 'D7', 'E7', 'F7', 'G7', 'H7', 'A8', 'B8', 'C8', 'D8', 'E8', 'F8', 'G8', 'H8', 'A9', 'B9', 'C9', 'D9', 'E9', 'F9', 'G9', 'H9', 'A10', 'B10', 'C10', 'D10', 'E10', 'F10', 'G10', 'H10', 'A11', 'B11', 'C11', 'D11', 'E11', 'F11', 'G11', 'H11', 'A12', 'B12', 'C12', 'D12', 'E12', 'F12', 'G12', 'H12']\n",
       "\n",
       "mix : {'rep': 2, 'vol': 100}\n",
       "\n",
       "blowout : False\n",
       "\n",
       "speed : {'aspirate': 1, 'dispense': 1}\n",
       "****************************************************************************************************\n",
       "transfer 3: \n",
       "vol : 20\n",
       "\n",
       "locs : [['A3', 'A3', 'A3', 'A3', 'A3', 'A3'], ['A2', 'A4', 'A6', 'A8', 'A10', 'A12']]\n",
       "\n",
       "tiprack : ['A3', 'A4', 'A5', 'A6', 'A7', 'A8']\n",
       "\n",
       "mix : {'rep': 4, 'vol': 100}\n",
       "\n",
       "blowout : True\n",
       "\n",
       "speed : {'aspirate': 1, 'dispense': 1}\n",
       "****************************************************************************************************\n",
       "transfer_mode_2: \n",
       "use_pipette : singlechannel\n",
       "\n",
       "drop_tip : True"
      ]
     },
     "execution_count": 9,
     "metadata": {},
     "output_type": "execute_result"
    }
   ],
   "source": [
    "## set systems & transfer specifications\n",
    "path_smb = r'C:\\Users\\scrc112\\Desktop\\work\\biplab\\OpenTron\\DriveSMB'\n",
    "\n",
    "## transfer\n",
    "tc = transfer_config(path = path_smb, file = 'ot2_transfer_config_ox.json',reservoir_96 = True, drop_tip=True);\n",
    "\n",
    "# Transfer 1 : buffer using left multichannel p300_mult buffer\n",
    "## tiprack : deck 10\n",
    "tc.dict['transfer_1']['tiprack'] = ['A1:A2'] \n",
    "tc.dict['transfer_1']['vol'] = [160,20] # volume aspirate uL\n",
    "tc.dict['transfer_1']['locs'] = [['A1','A1:A12'],# buffer+PhRed in all cols\n",
    "                                 ['A2','A1:2:A12']] # add 20 micl on odd cols\n",
    "                                 \n",
    "\n",
    "\n",
    "## Transfer 2 : polymer 20 micl\n",
    "## tiprack : deck 11\n",
    "tc.dict['transfer_2']['tiprack'] = ['A1:H12'] # 6 tips\n",
    "tc.dict['transfer_2']['vol'] = 20\n",
    "\n",
    "tc.dict['transfer_2']['locs'] =[['A1','A2:H2'], # enz hydrolysis\n",
    "                                ['B1','A4:H4'],\n",
    "                                ['C1','A6:H6'],\n",
    "                                ['D1','A8:H8'],\n",
    "                                ['E1','A10:H10'],\n",
    "                                ['F1','A12:H12'],\n",
    "                                ['A1','A1:H1'], # checmical hydrolysius\n",
    "                                ['B1','A3:H3'],\n",
    "                                ['C1','A5:H5'],\n",
    "                                ['D1','A7:H7'],\n",
    "                                ['E1','A9:H9'],\n",
    "                                ['F1','A11:H11']]   \n",
    "\n",
    "\n",
    "## Transfer 3 : polymer 20 micl using left multichannel p300_mult buffer\n",
    "## tiprack : deck 10\n",
    "tc.dict['transfer_3']['tiprack'] = ['A3:A8'] # 6 tips\n",
    "tc.dict['transfer_3']['vol'] = 20\n",
    "tc.dict['transfer_3']['locs'] =['A3','A2:2:A12']\n",
    "\n",
    "safety_test(sc,tc)\n",
    "tc.save_json()\n",
    "tc"
   ]
  },
  {
   "cell_type": "code",
   "execution_count": 10,
   "id": "6ddc8d44",
   "metadata": {},
   "outputs": [
    {
     "data": {
      "text/plain": [
       "[[['A1', 'A1', 'A1', 'A1', 'A1', 'A1', 'A1', 'A1'],\n",
       "  ['A2', 'B2', 'C2', 'D2', 'E2', 'F2', 'G2', 'H2']],\n",
       " [['B1', 'B1', 'B1', 'B1', 'B1', 'B1', 'B1', 'B1'],\n",
       "  ['A4', 'B4', 'C4', 'D4', 'E4', 'F4', 'G4', 'H4']],\n",
       " [['C1', 'C1', 'C1', 'C1', 'C1', 'C1', 'C1', 'C1'],\n",
       "  ['A6', 'B6', 'C6', 'D6', 'E6', 'F6', 'G6', 'H6']],\n",
       " [['D1', 'D1', 'D1', 'D1', 'D1', 'D1', 'D1', 'D1'],\n",
       "  ['A8', 'B8', 'C8', 'D8', 'E8', 'F8', 'G8', 'H8']],\n",
       " [['E1', 'E1', 'E1', 'E1', 'E1', 'E1', 'E1', 'E1'],\n",
       "  ['A10', 'B10', 'C10', 'D10', 'E10', 'F10', 'G10', 'H10']],\n",
       " [['F1', 'F1', 'F1', 'F1', 'F1', 'F1', 'F1', 'F1'],\n",
       "  ['A12', 'B12', 'C12', 'D12', 'E12', 'F12', 'G12', 'H12']],\n",
       " [['A1', 'A1', 'A1', 'A1', 'A1', 'A1', 'A1', 'A1'],\n",
       "  ['A1', 'B1', 'C1', 'D1', 'E1', 'F1', 'G1', 'H1']],\n",
       " [['B1', 'B1', 'B1', 'B1', 'B1', 'B1', 'B1', 'B1'],\n",
       "  ['A3', 'B3', 'C3', 'D3', 'E3', 'F3', 'G3', 'H3']],\n",
       " [['C1', 'C1', 'C1', 'C1', 'C1', 'C1', 'C1', 'C1'],\n",
       "  ['A5', 'B5', 'C5', 'D5', 'E5', 'F5', 'G5', 'H5']],\n",
       " [['D1', 'D1', 'D1', 'D1', 'D1', 'D1', 'D1', 'D1'],\n",
       "  ['A7', 'B7', 'C7', 'D7', 'E7', 'F7', 'G7', 'H7']],\n",
       " [['E1', 'E1', 'E1', 'E1', 'E1', 'E1', 'E1', 'E1'],\n",
       "  ['A9', 'B9', 'C9', 'D9', 'E9', 'F9', 'G9', 'H9']],\n",
       " [['F1', 'F1', 'F1', 'F1', 'F1', 'F1', 'F1', 'F1'],\n",
       "  ['A11', 'B11', 'C11', 'D11', 'E11', 'F11', 'G11', 'H11']]]"
      ]
     },
     "execution_count": 10,
     "metadata": {},
     "output_type": "execute_result"
    }
   ],
   "source": [
    "tc.dict['transfer_2']['locs']"
   ]
  },
  {
   "cell_type": "markdown",
   "id": "9a182b3b-8363-4c94-85a1-29f1677b252a",
   "metadata": {
    "jp-MarkdownHeadingCollapsed": true
   },
   "source": [
    "#### Dump to Json & Load from Json"
   ]
  },
  {
   "cell_type": "code",
   "execution_count": 18,
   "id": "04997ce5-3311-4c27-bcc8-078d8b35d3a1",
   "metadata": {},
   "outputs": [
    {
     "data": {
      "text/plain": [
       "class transfer_config.\n",
       "transfer 1 \n",
       "vol : [160, 20]\n",
       "\n",
       "locs : [[['A1', 'A1', 'A1', 'A1', 'A1', 'A1', 'A1', 'A1', 'A1', 'A1', 'A1', 'A1'], ['A1', 'A2', 'A3', 'A4', 'A5', 'A6', 'A7', 'A8', 'A9', 'A10', 'A11', 'A12']], [['A2', 'A2', 'A2', 'A2', 'A2', 'A2'], ['A1', 'A3', 'A5', 'A7', 'A9', 'A11']]]\n",
       "\n",
       "tiprack : ['A1', 'A2']\n",
       "\n",
       "mix : {'rep': 2, 'vol': 100}\n",
       "\n",
       "blowout : False\n",
       "****************************************************************************************************\n",
       "transfer 2 \n",
       "vol : 20\n",
       "\n",
       "locs : [[['A1', 'A1', 'A1', 'A1', 'A1', 'A1', 'A1', 'A1'], ['A2', 'B2', 'C2', 'D2', 'E2', 'F2', 'G2', 'H2']], [['B1', 'B1', 'B1', 'B1', 'B1', 'B1', 'B1', 'B1'], ['A4', 'B4', 'C4', 'D4', 'E4', 'F4', 'G4', 'H4']], [['C1', 'C1', 'C1', 'C1', 'C1', 'C1', 'C1', 'C1'], ['A6', 'B6', 'C6', 'D6', 'E6', 'F6', 'G6', 'H6']], [['D1', 'D1', 'D1', 'D1', 'D1', 'D1', 'D1', 'D1'], ['A8', 'B8', 'C8', 'D8', 'E8', 'F8', 'G8', 'H8']], [['E1', 'E1', 'E1', 'E1', 'E1', 'E1', 'E1', 'E1'], ['A10', 'B10', 'C10', 'D10', 'E10', 'F10', 'G10', 'H10']], [['F1', 'F1', 'F1', 'F1', 'F1', 'F1', 'F1', 'F1'], ['A12', 'B12', 'C12', 'D12', 'E12', 'F12', 'G12', 'H12']]]\n",
       "\n",
       "tiprack : ['A1', 'B1', 'C1', 'D1', 'E1', 'F1', 'G1', 'H1', 'A2', 'B2', 'C2', 'D2', 'E2', 'F2', 'G2', 'H2', 'A3', 'B3', 'C3', 'D3', 'E3', 'F3', 'G3', 'H3', 'A4', 'B4', 'C4', 'D4', 'E4', 'F4', 'G4', 'H4', 'A5', 'B5', 'C5', 'D5', 'E5', 'F5', 'G5', 'H5', 'A6', 'B6', 'C6', 'D6', 'E6', 'F6', 'G6', 'H6']\n",
       "\n",
       "mix : {'rep': 2, 'vol': 100}\n",
       "\n",
       "blowout : False\n",
       "****************************************************************************************************\n",
       "transfer 3 \n",
       "vol : 20\n",
       "\n",
       "locs : [['A3', 'A3', 'A3', 'A3', 'A3', 'A3'], ['A2', 'A4', 'A6', 'A8', 'A10', 'A12']]\n",
       "\n",
       "tiprack : ['A3', 'A4', 'A5', 'A6', 'A7', 'A8']\n",
       "\n",
       "mix : {'rep': 4, 'vol': 100}\n",
       "\n",
       "blowout : True"
      ]
     },
     "execution_count": 18,
     "metadata": {},
     "output_type": "execute_result"
    }
   ],
   "source": [
    "path_json_dump = r'C:\\Users\\scrc112\\Desktop\\work\\biplab\\OpenTron\\dev\\Dummy\\json_dump'\n",
    "tc.save_json(path_json_dump, 'liq_transfer_singlechannel_droptip.json')\n",
    "\n",
    "tc3 = transfer_config().load_from_json(path = path_json_dump, file = 'liq_transfer_singlechannel_droptip.json')\n",
    "tc3.save_json('smb')\n",
    "tc3"
   ]
  },
  {
   "cell_type": "markdown",
   "id": "5c9fbc01-214f-4458-8b45-3a1a14158ae3",
   "metadata": {
    "jp-MarkdownHeadingCollapsed": true
   },
   "source": [
    "### Edit transfer config & save to SMB folder (Transfer 2: Multi Channel)"
   ]
  },
  {
   "cell_type": "code",
   "execution_count": 6,
   "id": "4996e8fb-f0b5-4420-9b50-ed7fc947ea18",
   "metadata": {},
   "outputs": [
    {
     "name": "stdout",
     "output_type": "stream",
     "text": [
      "safety test : passed\n"
     ]
    },
    {
     "data": {
      "text/plain": [
       "class transfer_config.\n",
       "transfer 1: \n",
       "vol : [20, 160]\n",
       "\n",
       "locs : [[['A2', 'A2', 'A2', 'A2', 'A2', 'A2'], ['A1', 'A3', 'A5', 'A7', 'A9', 'A11']], [['A1', 'A1', 'A1', 'A1', 'A1', 'A1', 'A1', 'A1', 'A1', 'A1', 'A1', 'A1'], ['A1', 'A2', 'A3', 'A4', 'A5', 'A6', 'A7', 'A8', 'A9', 'A10', 'A11', 'A12']]]\n",
       "\n",
       "tiprack : ['A1', 'A2']\n",
       "\n",
       "mix : {'rep': 2, 'vol': 100}\n",
       "\n",
       "blowout : False\n",
       "\n",
       "speed : {'aspirate': 1, 'dispense': 1}\n",
       "****************************************************************************************************\n",
       "transfer 2: \n",
       "vol : 20\n",
       "\n",
       "locs : [[['A1', 'A2', 'A3', 'A4', 'A5', 'A6'], ['A1', 'A3', 'A5', 'A7', 'A9', 'A11']], [['A1', 'A2', 'A3', 'A4', 'A5', 'A6'], ['A2', 'A4', 'A6', 'A8', 'A10', 'A12']]]\n",
       "\n",
       "tiprack : ['A1', 'A2', 'A3', 'A4', 'A5', 'A6', 'A7', 'A8', 'A9', 'A10', 'A11', 'A12']\n",
       "\n",
       "mix : {'rep': 2, 'vol': 100}\n",
       "\n",
       "blowout : False\n",
       "\n",
       "speed : {'aspirate': 1, 'dispense': 1}\n",
       "****************************************************************************************************\n",
       "transfer 3: \n",
       "vol : 20\n",
       "\n",
       "locs : [['A3', 'A3', 'A3', 'A3', 'A3', 'A3'], ['A2', 'A4', 'A6', 'A8', 'A10', 'A12']]\n",
       "\n",
       "tiprack : ['A3', 'A4', 'A5', 'A6', 'A7', 'A8']\n",
       "\n",
       "mix : {'rep': 4, 'vol': 100}\n",
       "\n",
       "blowout : True\n",
       "\n",
       "speed : {'aspirate': 1, 'dispense': 1}\n",
       "****************************************************************************************************\n",
       "transfer_mode_2: \n",
       "use_pipette : multichannel\n",
       "\n",
       "drop_tip : False"
      ]
     },
     "execution_count": 6,
     "metadata": {},
     "output_type": "execute_result"
    }
   ],
   "source": [
    "## set systems & transfer specifications\n",
    "path_smb = r'C:\\Users\\scrc112\\Desktop\\work\\biplab\\OpenTron\\DriveSMB'\n",
    "#path_smb = r'D:\\All_files\\pys\\AI_algos\\Opentron_dev\\Dummy\\SMB'\n",
    "\n",
    "## transfer\n",
    "tc = transfer_config(path = path_smb, file = 'ot2_transfer_config_ox.json', reservoir_96 = False);\n",
    "\n",
    "# Transfer 1 : buffer using left multichannel p300_mult buffer\n",
    "## tiprack : deck 10\n",
    "tc.dict['transfer_1']['tiprack'] = ['A1:A2'] \n",
    "tc.dict['transfer_1']['vol'] = [20,160] # volume aspirate uL\n",
    "tc.dict['transfer_1']['locs'] = [['A2','A1:2:A12'],# buffer+PhRed in all cols\n",
    "                                 ['A1','A1:A12']] # add 20 micl on odd cols\n",
    "'''\n",
    "tc.dict['transfer_1']['tiprack'] = ['A1'] \n",
    "tc.dict['transfer_1']['vol'] = [160] # volume aspirate uL\n",
    "tc.dict['transfer_1']['locs'] = [['A2','A1:2:A12']]# buffer+PhRed in all cols] # add 20 micl on odd cols\n",
    "'''\n",
    "\n",
    "## Transfer 2 : polymer 20 micl\n",
    "## tiprack : deck 11\n",
    "#tc.dict['transfer_2']['tiprack'] = ['A7:A12'] # 6 tips\n",
    "tc.dict['transfer_2']['tiprack'] = ['A1:A12'] # 6 tips\n",
    "tc.dict['transfer_2']['vol'] = 20\n",
    "tc.dict['transfer_2']['locs'] =[['A1:A6','A1:2:A12'],#control chemical hydrolysis\n",
    "                                ['A1:A6','A2:2:A12']]#enzymatic hydrolysis\n",
    "'''\n",
    "tc.dict['transfer_2']['locs'] =['A1:A6','A1:A12']\n",
    "\n",
    "tc.dict['transfer_2']['locs'] =[['A1','A1:A2'],\n",
    "                                ['A2','A3:A4'],\n",
    "                                ['A3','A5:A6'],\n",
    "                                ['A4','A7:A8'],\n",
    "                                ['A5','A9:A10'],\n",
    "                                ['A6','A11:A12']]\n",
    "'''\n",
    "## Transfer 3 : polymer 20 micl using left multichannel p300_mult buffer\n",
    "## tiprack : deck 10\n",
    "tc.dict['transfer_3']['tiprack'] = ['A3:A8'] # 6 tips\n",
    "tc.dict['transfer_3']['vol'] = 20\n",
    "tc.dict['transfer_3']['locs'] =['A3','A2:2:A12']\n",
    "\n",
    "safety_test(sc,tc)\n",
    "tc.save_json()\n",
    "tc"
   ]
  },
  {
   "cell_type": "code",
   "execution_count": 4,
   "id": "b8e354ef-5064-4b20-a88c-c10bfdbb4d97",
   "metadata": {},
   "outputs": [
    {
     "data": {
      "text/plain": [
       "'nest_96_wellplate_2ml_deep'"
      ]
     },
     "execution_count": 4,
     "metadata": {},
     "output_type": "execute_result"
    }
   ],
   "source": [
    "sc.dict['reservoir_2']['type']"
   ]
  },
  {
   "cell_type": "markdown",
   "id": "d7334ce6",
   "metadata": {
    "jp-MarkdownHeadingCollapsed": true
   },
   "source": [
    "#### Dump to Json & Load from Json"
   ]
  },
  {
   "cell_type": "code",
   "execution_count": 6,
   "id": "b92dc324",
   "metadata": {},
   "outputs": [
    {
     "data": {
      "text/plain": [
       "class transfer_config.\n",
       "transfer 1 \n",
       "vol : [160, 20]\n",
       "\n",
       "locs : [[['A1', 'A1', 'A1', 'A1', 'A1', 'A1', 'A1', 'A1', 'A1', 'A1', 'A1', 'A1'], ['A1', 'A2', 'A3', 'A4', 'A5', 'A6', 'A7', 'A8', 'A9', 'A10', 'A11', 'A12']], [['A2', 'A2', 'A2', 'A2', 'A2', 'A2'], ['A1', 'A3', 'A5', 'A7', 'A9', 'A11']]]\n",
       "\n",
       "tiprack : ['A1', 'A2']\n",
       "\n",
       "mix : {'rep': 2, 'vol': 100}\n",
       "\n",
       "blowout : False\n",
       "****************************************************************************************************\n",
       "transfer 2 \n",
       "vol : 20\n",
       "\n",
       "locs : [['A1', 'A2', 'A3', 'A4', 'A5', 'A6'], ['A2', 'A4', 'A6', 'A8', 'A10', 'A12']]\n",
       "\n",
       "tiprack : ['A7', 'A8', 'A9', 'A10', 'A11', 'A12']\n",
       "\n",
       "mix : {'rep': 2, 'vol': 100}\n",
       "\n",
       "blowout : False\n",
       "****************************************************************************************************\n",
       "transfer 3 \n",
       "vol : 20\n",
       "\n",
       "locs : [['A3', 'A3', 'A3', 'A3', 'A3', 'A3'], ['A2', 'A4', 'A6', 'A8', 'A10', 'A12']]\n",
       "\n",
       "tiprack : ['A3', 'A4', 'A5', 'A6', 'A7', 'A8']\n",
       "\n",
       "mix : {'rep': 4, 'vol': 100}\n",
       "\n",
       "blowout : True"
      ]
     },
     "execution_count": 6,
     "metadata": {},
     "output_type": "execute_result"
    }
   ],
   "source": [
    "path_json_dump = r'C:\\Users\\scrc112\\Desktop\\work\\biplab\\OpenTron\\dev\\Dummy\\json_dump'\n",
    "tc.save_json(path_json_dump, 'liq_transfer_multichannel.json')\n",
    "\n",
    "tc = transfer_config().load_from_json(path = path_json_dump, file = 'liq_transfer_multichannel.json')\n",
    "tc.save_json('smb')\n",
    "tc"
   ]
  },
  {
   "cell_type": "markdown",
   "id": "75a1cbdb",
   "metadata": {},
   "source": [
    "## Jibberish"
   ]
  },
  {
   "cell_type": "code",
   "execution_count": 9,
   "id": "34e38023",
   "metadata": {},
   "outputs": [
    {
     "name": "stdout",
     "output_type": "stream",
     "text": [
      "singlechannel\n",
      "azenta_12_reservoir_2100ul\n"
     ]
    },
    {
     "ename": "AssertionError",
     "evalue": "reservoir2 type & transfer mode mismatch!",
     "output_type": "error",
     "traceback": [
      "\u001b[1;31m---------------------------------------------------------------------------\u001b[0m",
      "\u001b[1;31mAssertionError\u001b[0m                            Traceback (most recent call last)",
      "Cell \u001b[1;32mIn[9], line 7\u001b[0m\n\u001b[0;32m      5\u001b[0m \u001b[38;5;28mprint\u001b[39m(data[\u001b[38;5;124m'\u001b[39m\u001b[38;5;124mreservoir_2\u001b[39m\u001b[38;5;124m'\u001b[39m][\u001b[38;5;124m'\u001b[39m\u001b[38;5;124mtype\u001b[39m\u001b[38;5;124m'\u001b[39m])\n\u001b[0;32m      6\u001b[0m \u001b[38;5;28;01mif\u001b[39;00m use_pipette_transfer_2 \u001b[38;5;241m==\u001b[39m \u001b[38;5;124m'\u001b[39m\u001b[38;5;124msinglechannel\u001b[39m\u001b[38;5;124m'\u001b[39m :\n\u001b[1;32m----> 7\u001b[0m     \u001b[38;5;28;01massert\u001b[39;00m data[\u001b[38;5;124m'\u001b[39m\u001b[38;5;124mreservoir_2\u001b[39m\u001b[38;5;124m'\u001b[39m][\u001b[38;5;124m'\u001b[39m\u001b[38;5;124mtype\u001b[39m\u001b[38;5;124m'\u001b[39m] \u001b[38;5;241m==\u001b[39m \u001b[38;5;124m'\u001b[39m\u001b[38;5;124mnest_96_wellplate_2ml_deep\u001b[39m\u001b[38;5;124m'\u001b[39m, \u001b[38;5;124m'\u001b[39m\u001b[38;5;124mreservoir2 type & transfer mode mismatch!\u001b[39m\u001b[38;5;124m'\u001b[39m\n\u001b[0;32m      8\u001b[0m \u001b[38;5;28;01melse\u001b[39;00m : \n\u001b[0;32m      9\u001b[0m     \u001b[38;5;28;01massert\u001b[39;00m data[\u001b[38;5;124m'\u001b[39m\u001b[38;5;124mreservoir_2\u001b[39m\u001b[38;5;124m'\u001b[39m][\u001b[38;5;124m'\u001b[39m\u001b[38;5;124mtype\u001b[39m\u001b[38;5;124m'\u001b[39m] \u001b[38;5;241m==\u001b[39m \u001b[38;5;124m'\u001b[39m\u001b[38;5;124mazenta_12_reservoir_2100ul\u001b[39m\u001b[38;5;124m'\u001b[39m, \u001b[38;5;124m'\u001b[39m\u001b[38;5;124mreservoir2 type & transfer mode mismatch!\u001b[39m\u001b[38;5;124m'\u001b[39m\n",
      "\u001b[1;31mAssertionError\u001b[0m: reservoir2 type & transfer mode mismatch!"
     ]
    }
   ],
   "source": [
    "vol_transfer = tc.dict\n",
    "data = sc.dict\n",
    "use_pipette_transfer_2 = vol_transfer['transfer_mode_2']['use_pipette']\n",
    "print(use_pipette_transfer_2)\n",
    "print(data['reservoir_2']['type'])\n",
    "if use_pipette_transfer_2 == 'singlechannel' :\n",
    "    assert data['reservoir_2']['type'] == 'nest_96_wellplate_2ml_deep', 'reservoir2 type & transfer mode mismatch!'\n",
    "else : \n",
    "    assert data['reservoir_2']['type'] == 'azenta_12_reservoir_2100ul', 'reservoir2 type & transfer mode mismatch!'"
   ]
  },
  {
   "cell_type": "code",
   "execution_count": 23,
   "id": "e69d60b1-7606-490f-9ca8-37f8b2dd74ca",
   "metadata": {},
   "outputs": [
    {
     "name": "stdout",
     "output_type": "stream",
     "text": [
      "buffer transfer:\n",
      "pick up tipsA1\n",
      "transferring 160 micl from deck 7 A1 to deck 5 A1\n",
      "transferring 160 micl from deck 7 A1 to deck 5 A2\n",
      "transferring 160 micl from deck 7 A1 to deck 5 A3\n",
      "transferring 160 micl from deck 7 A1 to deck 5 A4\n",
      "transferring 160 micl from deck 7 A1 to deck 5 A5\n",
      "transferring 160 micl from deck 7 A1 to deck 5 A6\n",
      "transferring 160 micl from deck 7 A1 to deck 5 A7\n",
      "transferring 160 micl from deck 7 A1 to deck 5 A8\n",
      "transferring 160 micl from deck 7 A1 to deck 5 A9\n",
      "transferring 160 micl from deck 7 A1 to deck 5 A10\n",
      "transferring 160 micl from deck 7 A1 to deck 5 A11\n",
      "transferring 160 micl from deck 7 A1 to deck 5 A12\n",
      "pick up tipsA2\n",
      "transferring 20 micl from deck 7 A2 to deck 5 A1\n",
      "transferring 20 micl from deck 7 A2 to deck 5 A3\n",
      "transferring 20 micl from deck 7 A2 to deck 5 A5\n",
      "transferring 20 micl from deck 7 A2 to deck 5 A7\n",
      "transferring 20 micl from deck 7 A2 to deck 5 A9\n",
      "transferring 20 micl from deck 7 A2 to deck 5 A11\n",
      "buffer transfer complete\n",
      "####################################################################################################\n"
     ]
    }
   ],
   "source": [
    "vol_transfer = tc.dict\n",
    "data = sc.dict\n",
    "use_pipette_transfer_2 = vol_transfer['transfer_mode_2']['use_pipette']\n",
    "\n",
    "print('buffer transfer:')\n",
    "count = 0\n",
    "count_transfer = 0\n",
    "\n",
    "for tip, el in zip(vol_transfer['transfer_1']['tiprack'],vol_transfer['transfer_1']['locs']):\n",
    "    print('pick up tips' + tip)\n",
    "    vol = vol_transfer['transfer_1']['vol'][count]\n",
    "    \n",
    "    for pos0, pos1 in zip(el[0], el[1]):\n",
    "\n",
    "        print('transferring {} micl from deck {} {} to deck {} {}'.format(vol, \n",
    "                                                                         data['reservoir_1']['pos'],\n",
    "                                                                         pos0,\n",
    "                                                                         data['plate_1']['pos'],\n",
    "                                                                         pos1))\n",
    "\n",
    "        if vol_transfer['transfer_1']['blowout'] and  count_transfer == 0 : left.blow_out()\n",
    "\n",
    "\n",
    "    for pos0, pos1 in zip(el[0], el[1]):\n",
    "\n",
    "        print('transferring {} micl from deck {} {} to deck {} {}'.format(vol, \n",
    "                                                                         data['reservoir_1']['pos'],\n",
    "                                                                         pos0,\n",
    "                                                                         data['plate_1']['pos'],\n",
    "                                                                         pos1))\n",
    "        \n",
    "    \n",
    "    \n",
    "    count +=1\n",
    "    count_transfer+=1\n",
    "print('buffer transfer complete')\n",
    "print('#'*100)"
   ]
  },
  {
   "cell_type": "code",
   "execution_count": null,
   "id": "47696a7c-c51e-4a19-a9d4-d409418703bb",
   "metadata": {},
   "outputs": [],
   "source": []
  }
 ],
 "metadata": {
  "kernelspec": {
   "display_name": "ot2",
   "language": "python",
   "name": "python3"
  },
  "language_info": {
   "codemirror_mode": {
    "name": "ipython",
    "version": 3
   },
   "file_extension": ".py",
   "mimetype": "text/x-python",
   "name": "python",
   "nbconvert_exporter": "python",
   "pygments_lexer": "ipython3",
   "version": "3.9.17"
  }
 },
 "nbformat": 4,
 "nbformat_minor": 5
}
