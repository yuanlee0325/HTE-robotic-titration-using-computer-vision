{
 "cells": [
  {
   "cell_type": "code",
   "execution_count": null,
   "id": "6c317049-84ed-4d26-9591-6a76e56b99c0",
   "metadata": {},
   "outputs": [],
   "source": [
    "import numpy as np\n",
    "import os\n",
    "import pandas as pd\n",
    "from watchfiles import watch\n",
    "from utils.realsense import start_realsense\n",
    "import shutil\n",
    "from glob import glob\n",
    "from analysis.analysis_h2o2 import wellsegment_h2o2, plot_titration\n",
    "from time import time\n",
    "import json\n",
    "import matplotlib.pyplot as plt\n",
    "\n",
    "def get_changes(titration_count):\n",
    "    path_smb = r'C:\\Users\\scrc112\\Desktop\\work\\biplab\\OpenTron\\DriveSMB'\n",
    "    if os.path.exists(os.path.join(path_smb,'msi2pi_h2o2.csv')) :\n",
    "        fileExist = True\n",
    "        data = pd.read_csv(os.path.join(path_smb,'msi2pi_h2o2.csv'))\n",
    "        if data.loc[0,'titration_count'] > titration_count :\n",
    "            titration_count = data.loc[0,'titration_count']\n",
    "        else :\n",
    "            titration_count = False\n",
    "    else :\n",
    "        fileExist = False\n",
    "        titration_count = False\n",
    "\n",
    "    out = {'file': fileExist, 'titration_count' : titration_count}\n",
    "    return out\n",
    "\n",
    "def get_changes_v2():\n",
    "    path_smb = r'C:\\Users\\scrc112\\Desktop\\work\\biplab\\OpenTron\\DriveSMB'\n",
    "    titration_count = False\n",
    "    if os.path.exists(os.path.join(path_smb,'msi2pi_h2o2.csv')) :\n",
    "        fileExist = True\n",
    "        data = pd.read_csv(os.path.join(path_smb,'msi2pi_h2o2.csv'))\n",
    "        if data.loc[0,'mode'] == 'pre-estimation' : save_filename = 'preestimation'\n",
    "\n",
    "        if data.loc[0,'mode'] == 'titration':\n",
    "            titration_count = data.loc[0,'titration_count']\n",
    "            save_filename = 'samp_' + str(data.loc[0,'sample_id'])+ '_titration_' + str(data.loc[0,'titration_count'])+ '_'\n",
    "    else :\n",
    "        fileExist = False\n",
    "       \n",
    "\n",
    "    out = {'file': fileExist, 'titration_count' : titration_count, 'save_filename' : save_filename}\n",
    "    return out\n",
    "\n",
    "\n",
    "def get_changes_v3():\n",
    "    path_smb = r'C:\\Users\\scrc112\\Desktop\\work\\biplab\\OpenTron\\DriveSMB'\n",
    "    titration_count = False\n",
    "    reservoir_list_exist = False\n",
    "    fileExist = False\n",
    "    if os.path.exists(os.path.join(path_smb,'msi2pi_h2o2.csv')) :\n",
    "        fileExist = True\n",
    "        data = pd.read_csv(os.path.join(path_smb,'msi2pi_h2o2.csv'))\n",
    "        titration_count = None\n",
    "        save_location = None\n",
    "        save_filename = None\n",
    "        wells = None\n",
    "        copyfile = False\n",
    "        if data.loc[0,'mode'] == 'init' : \n",
    "            save_filename = 'blancplate_'\n",
    "\n",
    "        if data.loc[0,'mode'] == 'pre-estimation' : \n",
    "            save_filename = 'preestimation_'\n",
    "\n",
    "        if data.loc[0,'mode'] == 'titration':\n",
    "            titration_count = data.loc[0,'titration_count']\n",
    "            save_filename = 'samp_' + str(data.loc[0,'id'].astype('int'))+ '_titration_' + str(data.loc[0,'titration_count'].astype('int'))+ '_'\n",
    "            save_location = 'samp_' + str(data.loc[0,'id'].astype('int'))\n",
    "            wells = data.loc[:,'cols'].to_list()\n",
    "            copyfile = True\n",
    "        if os.path.exists(os.path.join(path_smb, 'reservoir_list.csv')):\n",
    "            reservoir_list_exist = True\n",
    "         #if data.loc[0,'mode'] == 'exit':\n",
    "    #else :\n",
    "        #fileExist = False\n",
    "       \n",
    "\n",
    "    out = {'file': fileExist, \n",
    "           'mode' : data.loc[0,'mode'],\n",
    "           'titration_count' : titration_count, \n",
    "           'save_filename' : save_filename,\n",
    "           'save_location' : save_location,\n",
    "           'wells' : wells,\n",
    "           'copyfile' : copyfile,\n",
    "           'reservoir_list_exist' : reservoir_list_exist}\n",
    "    return out\n",
    "\n",
    "def cleanup(path, pattern):\n",
    "    #path = r'C:\\Users\\scrc112\\Desktop\\work\\yuan\\protcol_h2o2_test\\titration\\samp_3'\n",
    "    lst = glob(os.path.join(path,pattern+'*.png'))\n",
    "    [os.remove(file) for idx,file in enumerate(lst[:-1])]\n",
    "\n",
    "\n",
    "def delete_files(path_smb):\n",
    "    if os.path.exists(os.path.join(path_smb,'msi2pi_h2o2.csv')) : os.remove(os.path.join(path_smb,'msi2pi_h2o2.csv'))\n",
    "    if os.path.exists(os.path.join(path_smb,'reservoir_list.csv')) : os.remove(os.path.join(path_smb,'reservoir_list.csv'))"
   ]
  },
  {
   "cell_type": "code",
   "execution_count": 2,
   "id": "7558b7b1-2534-4558-b729-4165b1742a6d",
   "metadata": {
    "scrolled": true
   },
   "outputs": [
    {
     "name": "stdout",
     "output_type": "stream",
     "text": [
      "interrupted\n"
     ]
    }
   ],
   "source": [
    "#################################################################################################################################\n",
    "path_smb = r'C:\\Users\\scrc112\\Desktop\\work\\biplab\\OpenTron\\DriveSMB'\n",
    "path_cam = r'C:\\Users\\scrc112\\Desktop\\work\\yuan\\protcol_h2o2_test'\n",
    "\n",
    "try :\n",
    "    # create sub folders\n",
    "    titration_base_path = os.path.join(path_cam,'titration')\n",
    "    mask_path = os.path.join(path_cam,'mask')\n",
    "    prest_path = os.path.join(path_cam,'preestimation')\n",
    "    if not(os.path.exists(titration_base_path)) : os.mkdir(titration_base_path)\n",
    "    if not(os.path.exists(mask_path)) : os.mkdir(mask_path)\n",
    "    if not(os.path.exists(prest_path)) : os.mkdir(prest_path)\n",
    "    \n",
    "    for changes in watch(path_smb):\n",
    "        print(changes)\n",
    "        out = get_changes_v3()\n",
    "\n",
    "        ############################################################################################################################################\n",
    "        # blancplate imaging\n",
    "        if out['file'] and out['mode'] == 'init' :\n",
    "            t1 = time()\n",
    "            start_realsense(fname=out['save_filename'],\n",
    "                            folder=mask_path,\n",
    "                            frame_interval=1,#seconds\n",
    "                            stop=0.001,#hours\n",
    "                            take_image=True,\n",
    "                            sensitivity = 150)\n",
    "            cleanup(mask_path,out['save_filename'])\n",
    "            \n",
    "            # save mask to mask folder\n",
    "            \n",
    "            # get mask from first image prior to liquid transfer\n",
    "            cls = wellsegment_h2o2(mask_path, out['save_filename'] + '3.png' ,None, squeeze_fac= 0.4, col_list = [8]*12, path = mask_path)\n",
    "            cls.extract() # save pickle file of sorted mask\n",
    "            wellsegment_h2o2.visualize(cls.image, cls.mask)\n",
    "            t2=time()\n",
    "            del cls\n",
    "            \n",
    "            print('elapsed time on blancplate imaging : {}'.format(t2-t1))\n",
    "\n",
    "        ###############################################################################################################################################\n",
    "        # pre-estimation\n",
    "        if out['file'] and out['mode'] == 'pre-estimation' and not(out['reservoir_list_exist']):\n",
    "            \n",
    "            t1 = time()\n",
    "            start_realsense(fname=out['save_filename'],\n",
    "                            folder=prest_path,\n",
    "                            frame_interval=1,#seconds\n",
    "                            stop=0.001,#hours\n",
    "                            take_image=True,\n",
    "                            sensitivity = 150)\n",
    "            cleanup(prest_path,out['save_filename'])\n",
    "            \n",
    "            # save analysis to smb\n",
    "            with open(os.path.join(path_smb,'ot2_transfer_config_h2o2.json'),'r') as f:\n",
    "                data = json.load(f)\n",
    "    \n",
    "            tcdict = data['transfer_3']['locs']\n",
    "\n",
    "            #cls2 = wellsegment_h2o2.load_pkl(prest_path,out['save_filename']+'3.png',os.path.join(mask_path, 'mask.pkl'))\n",
    "\n",
    "            cls2 = wellsegment_h2o2.load_pkl(prest_path,'COSTAR-pre23.png',os.path.join(mask_path, 'mask.pkl'))\n",
    "            cls2.analyze_prestimation(tcdict)\n",
    "            cls2.save_to_smb_()\n",
    "\n",
    "            t2=time()            \n",
    "            print('elapsed time on pre-estimation : {}'.format(t2-t1))\n",
    "\n",
    "        ###############################################################################################################################################\n",
    "        # titration\n",
    "        if out['file'] and out['mode'] == 'titration' :\n",
    "            titration_path = os.path.join(titration_base_path, out['save_location'])\n",
    "            if not(os.path.exists(titration_path)) : os.mkdir(titration_path)\n",
    "            shutil.copyfile(os.path.join(path_smb,'msi2pi_h2o2.csv'),os.path.join(titration_path, 'msi2pi_h2o2.csv'))\n",
    "            \n",
    "            start_realsense(fname=out['save_filename'],\n",
    "                            folder=titration_path,\n",
    "                            frame_interval=1,#seconds\n",
    "                            stop=0.001,#hours\n",
    "                            take_image=True,\n",
    "                            sensitivity = 150)\n",
    "            \n",
    "            cleanup(titration_path,out['save_filename'])\n",
    "\n",
    "        # stop\n",
    "        if out['file'] and out['mode'] == 'exit':\n",
    "            break\n",
    "\n",
    "except KeyboardInterrupt:\n",
    "    print('interrupted')\n",
    "    delete_files(path_smb)\n",
    "    #if os.path.exists(os.path.join(path_smb,'msi2pi_h2o2.csv')) : os.remove(os.path.join(path_smb,'msi2pi_h2o2.csv'))\n",
    "    \n",
    "delete_files(path_smb)"
   ]
  },
  {
   "cell_type": "markdown",
   "id": "2348849f-18f3-464e-9f4f-0b378239e470",
   "metadata": {},
   "source": [
    "# Titration Analysis"
   ]
  },
  {
   "cell_type": "code",
   "execution_count": 3,
   "id": "df4ba802-0dec-47b1-9cd4-c028ba2f8595",
   "metadata": {},
   "outputs": [
    {
     "ename": "NameError",
     "evalue": "name 'cls2' is not defined",
     "output_type": "error",
     "traceback": [
      "\u001b[1;31m---------------------------------------------------------------------------\u001b[0m",
      "\u001b[1;31mNameError\u001b[0m                                 Traceback (most recent call last)",
      "Cell \u001b[1;32mIn[3], line 2\u001b[0m\n\u001b[0;32m      1\u001b[0m \u001b[38;5;66;03m# save raw data\u001b[39;00m\n\u001b[1;32m----> 2\u001b[0m \u001b[43mcls2\u001b[49m\u001b[38;5;241m.\u001b[39manalyze_titration(os\u001b[38;5;241m.\u001b[39mpath\u001b[38;5;241m.\u001b[39mjoin(path_cam, \u001b[38;5;124m'\u001b[39m\u001b[38;5;124mtitration\u001b[39m\u001b[38;5;124m'\u001b[39m), vol_step \u001b[38;5;241m=\u001b[39m \u001b[38;5;241m5\u001b[39m)\n\u001b[0;32m      4\u001b[0m \u001b[38;5;66;03m# visualize\u001b[39;00m\n\u001b[0;32m      5\u001b[0m plot_titration(os\u001b[38;5;241m.\u001b[39mpath\u001b[38;5;241m.\u001b[39mjoin(path_cam, \u001b[38;5;124m'\u001b[39m\u001b[38;5;124mtitration\u001b[39m\u001b[38;5;124m'\u001b[39m), vol_step \u001b[38;5;241m=\u001b[39m \u001b[38;5;241m5\u001b[39m)\n",
      "\u001b[1;31mNameError\u001b[0m: name 'cls2' is not defined"
     ]
    }
   ],
   "source": [
    "# save raw data\n",
    "cls2.analyze_titration(os.path.join(path_cam, 'titration'), vol_step = 5)\n",
    "\n",
    "# visualize\n",
    "plot_titration(os.path.join(path_cam, 'titration'), vol_step = 5)"
   ]
  },
  {
   "cell_type": "code",
   "execution_count": 2,
   "id": "c62f9eb5-f41f-42a5-bf1d-fee83d4c46f4",
   "metadata": {
    "scrolled": true
   },
   "outputs": [
    {
     "name": "stdout",
     "output_type": "stream",
     "text": [
      "dict_keys(['A1', 'B1', 'C1', 'D1', 'E1', 'F1', 'G1', 'H1', 'A2', 'B2', 'C2', 'D2', 'E2', 'F2', 'G2', 'H2', 'A3', 'B3', 'C3', 'D3', 'E3', 'F3', 'G3', 'H3', 'A4', 'B4', 'C4', 'D4', 'E4', 'F4', 'G4', 'H4', 'A5', 'B5', 'C5', 'D5', 'E5', 'F5', 'G5', 'H5', 'A6', 'B6', 'C6', 'D6', 'E6', 'F6', 'G6', 'H6', 'A7', 'B7', 'C7', 'D7', 'E7', 'F7', 'G7', 'H7', 'A8', 'B8', 'C8', 'D8', 'E8', 'F8', 'G8', 'H8', 'A9', 'B9', 'C9', 'D9', 'E9', 'F9', 'G9', 'H9', 'A10', 'B10', 'C10', 'D10', 'E10', 'F10', 'G10', 'H10', 'A11', 'B11', 'C11', 'D11', 'E11', 'F11', 'G11', 'H11', 'A12', 'B12', 'C12', 'D12', 'E12', 'F12', 'G12', 'H12'])\n",
      "34.65637235990994\n",
      "19.016136597142076\n",
      "34.83578909671668\n"
     ]
    }
   ],
   "source": [
    "path_smb = r'C:\\Users\\scrc112\\Desktop\\work\\biplab\\OpenTron\\DriveSMB'\n",
    "path_cam = r'C:\\Users\\scrc112\\Desktop\\work\\yuan\\protcol_h2o2_test'\n",
    "prest_path = r'C:\\Users\\scrc112\\Desktop\\work\\yuan\\protcol_h2o2_test\\preestimation'\n",
    "mask_path = r'C:\\Users\\scrc112\\Desktop\\work\\yuan\\protcol_h2o2_test\\mask'\n",
    "\n",
    "with open(os.path.join(path_smb,'ot2_transfer_config_h2o2.json'),'r') as f:\n",
    "    data = json.load(f)\n",
    "    \n",
    "tcdict = data['transfer_3']['locs']\n",
    "\n",
    "cls2 = wellsegment_h2o2.load_pkl(prest_path,'COSTAR-pre23.png',os.path.join(mask_path, 'mask.pkl'))\n",
    "cls2.analyze_prestimation(tcdict)"
   ]
  },
  {
   "cell_type": "markdown",
   "id": "60379974-7ff7-4f3c-ad45-47e2a14915c9",
   "metadata": {},
   "source": [
    "# Fitting Analysis"
   ]
  },
  {
   "cell_type": "code",
   "execution_count": 1,
   "id": "711ec330-ee25-4f48-b411-25e253ee8bc4",
   "metadata": {},
   "outputs": [
    {
     "ename": "NameError",
     "evalue": "name 'cls2' is not defined",
     "output_type": "error",
     "traceback": [
      "\u001b[1;31m---------------------------------------------------------------------------\u001b[0m",
      "\u001b[1;31mNameError\u001b[0m                                 Traceback (most recent call last)",
      "Cell \u001b[1;32mIn[1], line 1\u001b[0m\n\u001b[1;32m----> 1\u001b[0m \u001b[43mcls2\u001b[49m\n",
      "\u001b[1;31mNameError\u001b[0m: name 'cls2' is not defined"
     ]
    }
   ],
   "source": [
    "cls2"
   ]
  }
 ],
 "metadata": {
  "kernelspec": {
   "display_name": "Python 3 (ipykernel)",
   "language": "python",
   "name": "python3"
  },
  "language_info": {
   "codemirror_mode": {
    "name": "ipython",
    "version": 3
   },
   "file_extension": ".py",
   "mimetype": "text/x-python",
   "name": "python",
   "nbconvert_exporter": "python",
   "pygments_lexer": "ipython3",
   "version": "3.9.17"
  }
 },
 "nbformat": 4,
 "nbformat_minor": 5
}
