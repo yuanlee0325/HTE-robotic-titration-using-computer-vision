{
 "cells": [
  {
   "cell_type": "code",
   "execution_count": 1,
   "id": "f3ab60cd",
   "metadata": {},
   "outputs": [],
   "source": [
    "from setting.setting_h2o2 import *"
   ]
  },
  {
   "cell_type": "markdown",
   "id": "8d6467cd",
   "metadata": {},
   "source": [
    "# System Config"
   ]
  },
  {
   "cell_type": "code",
   "execution_count": 2,
   "id": "ebe05299",
   "metadata": {
    "scrolled": true
   },
   "outputs": [],
   "source": [
    "sh = system_config_h2o2()\n",
    "\n",
    "sh.dict['tiprack_1']['type'] = 'opentrons_96_tiprack_20ul'  \n",
    "sh.dict['tiprack_2']['type'] = 'opentrons_96_tiprack_20ul' \n",
    "sh.dict['tiprack_3']['type'] = 'opentrons_96_tiprack_300ul'  \n",
    "sh.dict['tiprack_4']['type'] = 'opentrons_96_tiprack_300ul' \n",
    "sh.dict['tiprack_1']['pos'] = 10 # for titration\n",
    "sh.dict['tiprack_2']['pos'] = 11 # for titration and pre-estimation\n",
    "sh.dict['tiprack_3']['pos'] = 1 # for samples(h2o2)\n",
    "sh.dict['tiprack_4']['pos'] = 8 # for buffer(h2so4) and indicator \n",
    "sh.dict['reservoir_1']['pos'] = 9 # samples(h2o2) reservoir\n",
    "sh.dict['reservoir_2']['pos'] = 6 # buffer(h2so4) and indicator reservoir\n",
    "sh.dict['reservoir_3']['pos'] = 7 # titrant(KMno4) reservoir\n",
    "sh.dict['reservoir_4']['pos'] = 4 # h2o reservoir\n",
    "sh.dict['tiprack_1']['offset']['x'] = 0.10\n",
    "sh.dict['tiprack_1']['offset']['y'] = 0.30\n",
    "sh.dict['tiprack_1']['offset']['z'] = 0.20\n",
    "sh.dict['tiprack_2']['offset']['x'] = 0.50\n",
    "sh.dict['tiprack_2']['offset']['y'] = 0.20\n",
    "sh.dict['tiprack_2']['offset']['z'] = 0.30\n",
    "sh.dict['tiprack_3']['offset']['x'] = -0.70\n",
    "sh.dict['tiprack_3']['offset']['y'] = 0.7\n",
    "sh.dict['tiprack_3']['offset']['z'] = 0.10\n",
    "sh.dict['tiprack_4']['offset']['x'] = -0.20\n",
    "sh.dict['tiprack_4']['offset']['y'] = 0.90\n",
    "sh.dict['tiprack_4']['offset']['z'] = 0.00\n",
    "sh.dict['plate_1']['offset']['x'] = -0.10\n",
    "sh.dict['plate_1']['offset']['y'] = 0.20\n",
    "sh.dict['plate_1']['offset']['z'] = 0.80\n",
    "sh.dict['pipette_1']['type'] = 'p300_multi_gen2'\n",
    "sh.dict['pipette_1']['mount']='left'\n",
    "sh.dict['pipette_2']['type'] = 'p20_single_gen2'\n",
    "sh.dict['pipette_2']['mount']='right'\n",
    "sh.save_json()"
   ]
  },
  {
   "cell_type": "markdown",
   "id": "0f9e26fe-fc21-4af6-b36d-59fac82efa41",
   "metadata": {},
   "source": [
    "## Load from File to SMB server"
   ]
  },
  {
   "cell_type": "code",
   "execution_count": 3,
   "id": "1d12e760",
   "metadata": {},
   "outputs": [
    {
     "name": "stdout",
     "output_type": "stream",
     "text": [
      "{'tiprack_1': {'type': 'opentrons_96_tiprack_20ul', 'pos': 10, 'offset': {'x': 0.1, 'y': 0.3, 'z': 0.2}}, 'tiprack_2': {'type': 'opentrons_96_tiprack_20ul', 'pos': 11, 'offset': {'x': 0.5, 'y': 0.2, 'z': 0.3}}, 'tiprack_3': {'type': 'opentrons_96_tiprack_300ul', 'pos': 1, 'offset': {'x': -0.7, 'y': 0.7, 'z': 0.1}}, 'tiprack_4': {'type': 'opentrons_96_tiprack_300ul', 'pos': 8, 'offset': {'x': -0.2, 'y': 0.9, 'z': 0.0}}, 'camera': {'type': 'opentrons_96_tiprack_20ul', 'pos': 3, 'offset': {'x': 0.2, 'y': 0.3, 'z': 0}, 'tip': 'D3'}, 'plate_1': {'type': 'corning_96_wellplate_360ul_flat', 'pos': 5, 'offset': {'x': -0.1, 'y': 0.2, 'z': 0.8}}, 'reservoir_1': {'type': 'azenta_12_reservoir_2100ul', 'pos': 9, 'offset': {'x': 0, 'y': 0, 'z': 0}}, 'reservoir_2': {'type': 'azenta_12_reservoir_2100ul', 'pos': 6, 'offset': {'x': 0, 'y': 0, 'z': 0}}, 'reservoir_3': {'type': 'azenta_12_reservoir_2100ul', 'pos': 7, 'offset': {'x': 0, 'y': 0, 'z': 0}}, 'reservoir_4': {'type': 'azenta_12_reservoir_2100ul', 'pos': 4, 'offset': {'x': 0, 'y': 0, 'z': 0}}, 'pipette_1': {'type': 'p300_multi_gen2', 'mount': 'left'}, 'pipette_2': {'type': 'p20_single_gen2', 'mount': 'right'}}\n"
     ]
    },
    {
     "data": {
      "text/plain": [
       "class system_config.\n",
       "tiprack 1 : {'type': 'opentrons_96_tiprack_20ul', 'pos': 10, 'offset': {'x': 0.1, 'y': 0.3, 'z': 0.2}}\n",
       "****************************************************************************************************\n",
       "tiprack 2 : {'type': 'opentrons_96_tiprack_20ul', 'pos': 11, 'offset': {'x': 0.5, 'y': 0.2, 'z': 0.3}}\n",
       "****************************************************************************************************\n",
       "tiprack 3 : {'type': 'opentrons_96_tiprack_300ul', 'pos': 1, 'offset': {'x': -0.7, 'y': 0.7, 'z': 0.1}}\n",
       "****************************************************************************************************\n",
       "tiprack 4 : {'type': 'opentrons_96_tiprack_300ul', 'pos': 8, 'offset': {'x': -0.2, 'y': 0.9, 'z': 0.0}}\n",
       "****************************************************************************************************\n",
       "plate 1 : {'type': 'corning_96_wellplate_360ul_flat', 'pos': 5, 'offset': {'x': -0.1, 'y': 0.2, 'z': 0.8}}\n",
       "****************************************************************************************************\n",
       "reservoir 1 : {'type': 'azenta_12_reservoir_2100ul', 'pos': 9, 'offset': {'x': 0, 'y': 0, 'z': 0}}\n",
       "****************************************************************************************************\n",
       "reservoir 2 : {'type': 'azenta_12_reservoir_2100ul', 'pos': 6, 'offset': {'x': 0, 'y': 0, 'z': 0}}\n",
       "****************************************************************************************************\n",
       "reservoir 3 : {'type': 'azenta_12_reservoir_2100ul', 'pos': 7, 'offset': {'x': 0, 'y': 0, 'z': 0}}\n",
       "****************************************************************************************************\n",
       "reservoir 4 : {'type': 'azenta_12_reservoir_2100ul', 'pos': 4, 'offset': {'x': 0, 'y': 0, 'z': 0}}\n",
       "****************************************************************************************************\n",
       "camera : {'type': 'opentrons_96_tiprack_20ul', 'pos': 3, 'offset': {'x': 0.2, 'y': 0.3, 'z': 0}, 'tip': 'D3'}\n",
       "****************************************************************************************************\n",
       "pipette 1 : {'type': 'p300_multi_gen2', 'mount': 'left'}\n",
       "****************************************************************************************************\n",
       "pipette 2 : {'type': 'p20_single_gen2', 'mount': 'right'}"
      ]
     },
     "execution_count": 3,
     "metadata": {},
     "output_type": "execute_result"
    }
   ],
   "source": [
    "path_json_dump= os.path.abspath(r'../DriveSMB')\n",
    "sh2 = sh.load_from_json(path_json_dump,'ot2_system_config_h2o2.json')\n",
    "sh2.save_json(path_json_dump, 'test_h2o2.json') # use this code to test the connection between working PC and ot2\n",
    "sh2"
   ]
  },
  {
   "cell_type": "markdown",
   "id": "f30ad8a5",
   "metadata": {},
   "source": [
    "# Transfer Config"
   ]
  },
  {
   "cell_type": "code",
   "execution_count": 4,
   "id": "a056b460-d6a1-4ade-a24b-090c893e1bec",
   "metadata": {},
   "outputs": [
    {
     "name": "stdout",
     "output_type": "stream",
     "text": [
      "E11:H11\n"
     ]
    },
    {
     "data": {
      "text/plain": [
       "class transfer_config.\n",
       "transfer 1: \n",
       "vol : {'A1': 100}\n",
       "\n",
       "locs : [['A1', ['A7', 'A8']]]\n",
       "\n",
       "tiprack : ['A1', 'A2', 'A3', 'A4', 'A5', 'A6', 'A7', 'A8', 'A9', 'A10', 'A11', 'A12']\n",
       "\n",
       "mix : None\n",
       "\n",
       "blowout : True\n",
       "\n",
       "speed : {'aspirate': 1, 'dispense': 1}\n",
       "****************************************************************************************************\n",
       "transfer 2: \n",
       "vol : 100\n",
       "\n",
       "locs : [['A3', 'A4'], ['A7', 'A8']]\n",
       "\n",
       "tiprack : ['A1', 'A2', 'A3', 'A4', 'A5', 'A6', 'A7', 'A8', 'A9', 'A10', 'A11', 'A12']\n",
       "\n",
       "mix : None\n",
       "\n",
       "blowout : True\n",
       "\n",
       "speed : {'aspirate': 1, 'dispense': 1}\n",
       "****************************************************************************************************\n",
       "transfer 3: \n",
       "vol : 20\n",
       "\n",
       "locs : [['A1', ['E7', 'E8']], ['A2', ['F7', 'F8']], ['A3', ['G7', 'G8']], ['A4', ['H7', 'H8']]]\n",
       "\n",
       "tiprack : ['E11', 'F11', 'G11', 'H11']\n",
       "\n",
       "mix : {'rep': 0, 'vol': 20}\n",
       "\n",
       "blowout : True\n",
       "\n",
       "speed : {'aspirate': 1, 'dispense': 1}\n",
       "****************************************************************************************************\n",
       "transfer 4: \n",
       "vol : 4\n",
       "\n",
       "locs : [['A3', ['A7', 'B7', 'C7', 'D7']], ['A4', ['A8', 'B8', 'C8', 'D8']]]\n",
       "\n",
       "tiprack : ['A1', 'B1', 'C1', 'D1', 'E1', 'F1', 'G1', 'H1', 'A2', 'B2', 'C2', 'D2', 'E2', 'F2', 'G2', 'H2', 'A3', 'B3', 'C3', 'D3', 'E3', 'F3', 'G3', 'H3', 'A4', 'B4', 'C4', 'D4', 'E4', 'F4', 'G4', 'H4', 'A5', 'B5', 'C5', 'D5', 'E5', 'F5', 'G5', 'H5', 'A6', 'B6', 'C6', 'D6', 'E6', 'F6', 'G6', 'H6', 'A7', 'B7', 'C7', 'D7', 'E7', 'F7', 'G7', 'H7', 'A8', 'B8', 'C8', 'D8', 'E8', 'F8', 'G8', 'H8', 'A9', 'B9', 'C9', 'D9', 'E9', 'F9', 'G9', 'H9', 'A10', 'B10', 'C10', 'D10', 'E10', 'F10', 'G10', 'H10', 'A11', 'B11', 'C11', 'D11', 'E11', 'F11', 'G11', 'H11', 'A12', 'B12', 'C12', 'D12', 'E12', 'F12', 'G12', 'H12', 'A1', 'B1', 'C1', 'D1', 'E1', 'F1', 'G1', 'H1', 'A2', 'B2', 'C2', 'D2', 'E2', 'F2', 'G2', 'H2', 'A3', 'B3', 'C3', 'D3', 'E3', 'F3', 'G3', 'H3', 'A4', 'B4', 'C4', 'D4', 'E4', 'F4', 'G4', 'H4', 'A5', 'B5', 'C5', 'D5', 'E5', 'F5', 'G5', 'H5', 'A6', 'B6', 'C6', 'D6', 'E6', 'F6', 'G6', 'H6', 'A7', 'B7', 'C7', 'D7', 'E7', 'F7', 'G7', 'H7', 'A8', 'B8', 'C8', 'D8', 'E8', 'F8', 'G8', 'H8', 'A9', 'B9', 'C9', 'D9', 'E9', 'F9', 'G9', 'H9', 'A10', 'B10', 'C10', 'D10', 'E10', 'F10', 'G10', 'H10', 'A11', 'B11', 'C11', 'D11', 'E11', 'F11', 'G11', 'H11', 'A12', 'B12', 'C12', 'D12', 'E12', 'F12', 'G12', 'H12']\n",
       "\n",
       "mix : {'rep': 0, 'vol': 20}\n",
       "\n",
       "blowout : True\n",
       "\n",
       "speed : {'aspirate': 1, 'dispense': 1}\n",
       "\n",
       "num_wells : 4\n",
       "\n",
       "titration_points : [15, 15]\n",
       "****************************************************************************************************"
      ]
     },
     "execution_count": 4,
     "metadata": {},
     "output_type": "execute_result"
    }
   ],
   "source": [
    "tc = transfer_config_h2o2()\n",
    "# Note: volume number must be between the minimum and the maximum range of the used piptte\n",
    "# Transfer 1 : Buffer or Indicator addition(H2SO4), Multi-Channel Pipette p300, tiprack_4\n",
    "tc.dict['transfer_1']['tiprack'] = ['A1:A12']\n",
    "tc.dict['transfer_1']['vol'] = {'A1':100} # volume aspirate uL\n",
    "tc.dict['transfer_1']['locs'] = [['A1','A7:A8']] # buffer + indicator in all cols\n",
    "tc.dict['transfer_1']['blowout'] = True \n",
    "tc.dict['transfer_1']['mix'] = None\n",
    "\n",
    "\n",
    "# Transfer 2 : Sample Addition(H2O2), Multi-Channel Pipette p300, tiprack_3\n",
    "tc.dict['transfer_2']['tiprack'] = ['A1:A12']\n",
    "tc.dict['transfer_2']['vol'] = 100 # volume aspirate uL\n",
    "tc.dict['transfer_2']['locs'] = ['A3:A4','A7:A8'] \n",
    "tc.dict['transfer_2']['blowout'] = True \n",
    "tc.dict['transfer_2']['mix'] = None\n",
    "\n",
    "\n",
    "# Transfer 3 : Pre-estimation(titrant), Single-Channel Pipette p20, tiprack_2: E11-H11, only number can change\n",
    "# Note: the input volume is 20 uL, but within the titration_general.py, this aspiration was operated 2 times, \n",
    "# 40 uL in total for each concentration of titrant\n",
    "# select the condition parameter, including a_star and hue (hue_threshold and direction)\n",
    "tc.dict['transfer_3']['tiprack'] = ['E11:H11']\n",
    "tc.dict['transfer_3']['vol'] = 20 # volume aspirate uL\n",
    "tc.dict['transfer_3']['locs'] = [['A1','E7:E8'],\n",
    "                                 ['A2','F7:F8'],\n",
    "                                 ['A3','G7:G8'],\n",
    "                                 ['A4','H7:H8']]\n",
    "tc.dict['transfer_3']['mix'] = {'rep' : 0, 'vol' : 20}\n",
    "tc.dict['transfer_3']['blowout'] = True\n",
    "#tc.dict['transfer_3']['param'] = 'a*' \n",
    "tc.dict['transfer_3']['params'] = 'hue'\n",
    "tc.dict['transfer_3']['boundary'] = 50  # Threshold used to identify the titration endpoint (a*: 2; pH: 50; wha: 230)\n",
    "tc.dict['transfer_3']['larger_than_boundary'] = False # Boolean(type) indicating whether the first data point is higher or lower than the boundary\n",
    "\n",
    "# Transfer 4 : Titration(titrant), Single-Channel Pipette p20, tiprack_1\n",
    "tc.dict['transfer_4']['tiprack'] = ['A1:H12','A1:H12']\n",
    "tc.dict['transfer_4']['vol'] = 4 # volume aspirate uL\n",
    "tc.dict['transfer_4']['locs'] = [['A3','A4'],['A7:A8']]\n",
    "tc.dict['transfer_4']['titration'] = [15] * len(tc.dict['transfer_4']['locs'][0]) \n",
    "tc.dict['transfer_4']['mix']['rep'] = 0\n",
    "tc.dict['transfer_4']['mix']['vol'] = 20\n",
    "tc.dict['transfer_4']['blowout'] = True \n",
    "tc.dict['transfer_4']['speed'] = {'aspirate' : 1, 'dispense' : 1}\n",
    "tc.save_json()\n",
    "tc"
   ]
  },
  {
   "cell_type": "code",
   "execution_count": null,
   "id": "17390bfe",
   "metadata": {},
   "outputs": [],
   "source": []
  }
 ],
 "metadata": {
  "kernelspec": {
   "display_name": "ot2",
   "language": "python",
   "name": "python3"
  },
  "language_info": {
   "codemirror_mode": {
    "name": "ipython",
    "version": 3
   },
   "file_extension": ".py",
   "mimetype": "text/x-python",
   "name": "python",
   "nbconvert_exporter": "python",
   "pygments_lexer": "ipython3",
   "version": "3.9.17"
  }
 },
 "nbformat": 4,
 "nbformat_minor": 5
}
