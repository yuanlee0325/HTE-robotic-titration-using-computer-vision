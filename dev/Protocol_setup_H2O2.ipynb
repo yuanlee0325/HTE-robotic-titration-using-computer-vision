{
 "cells": [
  {
   "cell_type": "code",
   "execution_count": 1,
   "id": "f3ab60cd",
   "metadata": {},
   "outputs": [],
   "source": [
    "from setting.setting_h2o2 import *"
   ]
  },
  {
   "cell_type": "markdown",
   "id": "8d6467cd",
   "metadata": {},
   "source": [
    "# System Config"
   ]
  },
  {
   "cell_type": "code",
   "execution_count": 2,
   "id": "ebe05299",
   "metadata": {
    "scrolled": true
   },
   "outputs": [],
   "source": [
    "sh = system_config_h2o2()\n",
    "\n",
    "sh.dict['tiprack_1']['type'] = 'opentrons_96_tiprack_20ul'  \n",
    "sh.dict['tiprack_2']['type'] = 'opentrons_96_tiprack_20ul' \n",
    "sh.dict['tiprack_3']['type'] = 'opentrons_96_tiprack_300ul'  \n",
    "sh.dict['tiprack_4']['type'] = 'opentrons_96_tiprack_300ul' \n",
    "sh.dict['tiprack_1']['pos'] = 10 # for titration\n",
    "sh.dict['tiprack_2']['pos'] = 11 # for titration and pre-estimation\n",
    "sh.dict['tiprack_3']['pos'] = 1 # for samples(h2o2)\n",
    "sh.dict['tiprack_4']['pos'] = 8 # for buffer(h2so4) and indicator \n",
    "sh.dict['reservoir_1']['pos'] = 9 # samples(h2o2) reservoir\n",
    "sh.dict['reservoir_2']['pos'] = 6 # buffer(h2so4) and indicator reservoir\n",
    "sh.dict['reservoir_3']['pos'] = 7 # titrant(KMno4) reservoir\n",
    "sh.dict['reservoir_4']['pos'] = 4 # h2o reservoir\n",
    "sh.dict['tiprack_1']['offset']['x'] = 0.10\n",
    "sh.dict['tiprack_1']['offset']['y'] = 0.30\n",
    "sh.dict['tiprack_1']['offset']['z'] = 0.20\n",
    "sh.dict['tiprack_2']['offset']['x'] = 0.50\n",
    "sh.dict['tiprack_2']['offset']['y'] = 0.20\n",
    "sh.dict['tiprack_2']['offset']['z'] = 0.30\n",
    "sh.dict['tiprack_3']['offset']['x'] = -0.70\n",
    "sh.dict['tiprack_3']['offset']['y'] = 0.7\n",
    "sh.dict['tiprack_3']['offset']['z'] = 0.10\n",
    "sh.dict['tiprack_4']['offset']['x'] = -0.20\n",
    "sh.dict['tiprack_4']['offset']['y'] = 0.90\n",
    "sh.dict['tiprack_4']['offset']['z'] = 0.00\n",
    "sh.dict['plate_1']['offset']['x'] = -0.10\n",
    "sh.dict['plate_1']['offset']['y'] = 0.20\n",
    "sh.dict['plate_1']['offset']['z'] = 0.80\n",
    "sh.dict['pipette_1']['type'] = 'p300_multi_gen2'\n",
    "sh.dict['pipette_1']['mount']='left'\n",
    "sh.dict['pipette_2']['type'] = 'p20_single_gen2'\n",
    "sh.dict['pipette_2']['mount']='right'\n",
    "sh.save_json()"
   ]
  },
  {
   "cell_type": "markdown",
   "id": "0f9e26fe-fc21-4af6-b36d-59fac82efa41",
   "metadata": {},
   "source": [
    "## Load from File to SMB server"
   ]
  },
  {
   "cell_type": "code",
   "execution_count": null,
   "id": "1d12e760",
   "metadata": {},
   "outputs": [],
   "source": [
    "path_json_dump= os.path.abspath(r'../DriveSMB')\n",
    "sh2 = sh.load_from_json(path_json_dump,'ot2_system_config_h2o2.json')\n",
    "sh2.save_json(path_json_dump, 'test_h2o2.json') # use this code to test the connection between working PC and ot2\n",
    "sh2"
   ]
  },
  {
   "cell_type": "markdown",
   "id": "f30ad8a5",
   "metadata": {},
   "source": [
    "# Transfer Config"
   ]
  },
  {
   "cell_type": "code",
   "execution_count": null,
   "id": "a056b460-d6a1-4ade-a24b-090c893e1bec",
   "metadata": {},
   "outputs": [],
   "source": [
    "tc = transfer_config_h2o2()\n",
    "# Note: volume number must be between the minimum and the maximum range of the used piptte\n",
    "# Transfer 1 : Buffer or Indicator addition(H2SO4), Multi-Channel Pipette p300, tiprack_4\n",
    "tc.dict['transfer_1']['tiprack'] = ['A1:A12']\n",
    "tc.dict['transfer_1']['vol'] = {'A1':100} # volume aspirate uL\n",
    "tc.dict['transfer_1']['locs'] = [['A1','A7:A8']] # buffer + indicator in all cols\n",
    "tc.dict['transfer_1']['blowout'] = True \n",
    "tc.dict['transfer_1']['mix'] = None\n",
    "\n",
    "\n",
    "# Transfer 2 : Sample Addition(H2O2), Multi-Channel Pipette p300, tiprack_3\n",
    "tc.dict['transfer_2']['tiprack'] = ['A1:A12']\n",
    "tc.dict['transfer_2']['vol'] = 100 # volume aspirate uL\n",
    "tc.dict['transfer_2']['locs'] = ['A3:A4','A7:A8'] \n",
    "tc.dict['transfer_2']['blowout'] = True \n",
    "tc.dict['transfer_2']['mix'] = None\n",
    "\n",
    "\n",
    "# Transfer 3 : Pre-estimation(titrant), Single-Channel Pipette p20, tiprack_2: E11-H11, only number can change\n",
    "# Note: the input volume is 20 uL, but within the titration_general.py, this aspiration was operated 2 times, \n",
    "# 40 uL in total for each concentration of titrant\n",
    "# select the condition parameter, including a_star and hue (hue_threshold and direction)\n",
    "tc.dict['transfer_3']['tiprack'] = ['E11:H11']\n",
    "tc.dict['transfer_3']['vol'] = 20 # volume aspirate uL\n",
    "tc.dict['transfer_3']['locs'] = [['A1','E7:E8'],\n",
    "                                 ['A2','F7:F8'],\n",
    "                                 ['A3','G7:G8'],\n",
    "                                 ['A4','H7:H8']]\n",
    "tc.dict['transfer_3']['mix'] = {'rep' : 0, 'vol' : 20}\n",
    "tc.dict['transfer_3']['blowout'] = True\n",
    "#tc.dict['transfer_3']['param'] = 'a*' \n",
    "tc.dict['transfer_3']['params'] = 'hue'\n",
    "tc.dict['transfer_3']['boundary'] = 50  # Threshold used to identify the titration endpoint (a*: 2; pH: 50; wha: 230)\n",
    "tc.dict['transfer_3']['larger_than_boundary'] = False # Boolean(type) indicating whether the first data point is higher or lower than the boundary\n",
    "\n",
    "# Transfer 4 : Titration(titrant), Single-Channel Pipette p20, tiprack_1\n",
    "tc.dict['transfer_4']['tiprack'] = ['A1:H12','A1:H12']\n",
    "tc.dict['transfer_4']['vol'] = 4 # volume aspirate uL\n",
    "tc.dict['transfer_4']['locs'] = [['A3','A4'],['A7:A8']]\n",
    "tc.dict['transfer_4']['titration'] = [15] * len(tc.dict['transfer_4']['locs'][0]) \n",
    "tc.dict['transfer_4']['mix']['rep'] = 0\n",
    "tc.dict['transfer_4']['mix']['vol'] = 20\n",
    "tc.dict['transfer_4']['blowout'] = True \n",
    "tc.dict['transfer_4']['speed'] = {'aspirate' : 1, 'dispense' : 1}\n",
    "tc.save_json()\n",
    "tc"
   ]
  },
  {
   "cell_type": "code",
   "execution_count": null,
   "id": "17390bfe",
   "metadata": {},
   "outputs": [],
   "source": []
  }
 ],
 "metadata": {
  "kernelspec": {
   "display_name": "ot2",
   "language": "python",
   "name": "python3"
  },
  "language_info": {
   "codemirror_mode": {
    "name": "ipython",
    "version": 3
   },
   "file_extension": ".py",
   "mimetype": "text/x-python",
   "name": "python",
   "nbconvert_exporter": "python",
   "pygments_lexer": "ipython3",
   "version": "3.9.17"
  }
 },
 "nbformat": 4,
 "nbformat_minor": 5
}
